{
 "cells": [
  {
   "cell_type": "code",
   "execution_count": 9,
   "id": "interested-sigma",
   "metadata": {},
   "outputs": [],
   "source": [
    "import pandas as pd\n",
    "import os\n",
    "%matplotlib inline\n",
    "import matplotlib.pyplot as plt\n",
    "import numpy as np\n",
    "from sklearn.model_selection import train_test_split\n",
    "from sklearn.linear_model import LinearRegression"
   ]
  },
  {
   "cell_type": "code",
   "execution_count": 10,
   "id": "specific-threat",
   "metadata": {},
   "outputs": [
    {
     "data": {
      "text/html": [
       "<div>\n",
       "<style scoped>\n",
       "    .dataframe tbody tr th:only-of-type {\n",
       "        vertical-align: middle;\n",
       "    }\n",
       "\n",
       "    .dataframe tbody tr th {\n",
       "        vertical-align: top;\n",
       "    }\n",
       "\n",
       "    .dataframe thead th {\n",
       "        text-align: right;\n",
       "    }\n",
       "</style>\n",
       "<table border=\"1\" class=\"dataframe\">\n",
       "  <thead>\n",
       "    <tr style=\"text-align: right;\">\n",
       "      <th></th>\n",
       "      <th>County</th>\n",
       "      <th>State</th>\n",
       "      <th>Year</th>\n",
       "      <th>Month</th>\n",
       "      <th>Period Begin</th>\n",
       "      <th>Period End</th>\n",
       "      <th>Homes Sold</th>\n",
       "      <th>Homes Sold with Price Drop</th>\n",
       "      <th>Homes Sold with Price Drop (%)</th>\n",
       "      <th>Median Sale Price</th>\n",
       "      <th>...</th>\n",
       "      <th>Active Listings</th>\n",
       "      <th>Age of Inventory</th>\n",
       "      <th>Median List Price</th>\n",
       "      <th>Median List Price per Sqft</th>\n",
       "      <th>Average Offer to List</th>\n",
       "      <th>Average Sale to List Ratio</th>\n",
       "      <th>Median Days on Market</th>\n",
       "      <th>Months of Supply</th>\n",
       "      <th>Price Drops of Inventory (%)</th>\n",
       "      <th>Homes Sold Above List (%)</th>\n",
       "    </tr>\n",
       "  </thead>\n",
       "  <tbody>\n",
       "    <tr>\n",
       "      <th>0</th>\n",
       "      <td>Mecklenburg County</td>\n",
       "      <td>NC</td>\n",
       "      <td>2017</td>\n",
       "      <td>January</td>\n",
       "      <td>2017-01-09 00:00:00</td>\n",
       "      <td>2017-01-15</td>\n",
       "      <td>265</td>\n",
       "      <td>75</td>\n",
       "      <td>28.30%</td>\n",
       "      <td>249000.0</td>\n",
       "      <td>...</td>\n",
       "      <td>4899</td>\n",
       "      <td>76.0</td>\n",
       "      <td>$289,877.50</td>\n",
       "      <td>$124.89</td>\n",
       "      <td>0.88</td>\n",
       "      <td>0.98</td>\n",
       "      <td>82.0</td>\n",
       "      <td>18.49</td>\n",
       "      <td>2.15%</td>\n",
       "      <td>23.02%</td>\n",
       "    </tr>\n",
       "    <tr>\n",
       "      <th>1</th>\n",
       "      <td>Mecklenburg County</td>\n",
       "      <td>NC</td>\n",
       "      <td>2017</td>\n",
       "      <td>January</td>\n",
       "      <td>2017-01-16 00:00:00</td>\n",
       "      <td>2017-01-22</td>\n",
       "      <td>267</td>\n",
       "      <td>74</td>\n",
       "      <td>27.72%</td>\n",
       "      <td>200000.0</td>\n",
       "      <td>...</td>\n",
       "      <td>5008</td>\n",
       "      <td>74.0</td>\n",
       "      <td>$285,910.00</td>\n",
       "      <td>$124.02</td>\n",
       "      <td>0.99</td>\n",
       "      <td>0.98</td>\n",
       "      <td>67.0</td>\n",
       "      <td>18.76</td>\n",
       "      <td>2.55%</td>\n",
       "      <td>18.35%</td>\n",
       "    </tr>\n",
       "    <tr>\n",
       "      <th>2</th>\n",
       "      <td>Mecklenburg County</td>\n",
       "      <td>NC</td>\n",
       "      <td>2017</td>\n",
       "      <td>January</td>\n",
       "      <td>2017-01-30 00:00:00</td>\n",
       "      <td>2017-02-05</td>\n",
       "      <td>306</td>\n",
       "      <td>81</td>\n",
       "      <td>26.47%</td>\n",
       "      <td>209950.0</td>\n",
       "      <td>...</td>\n",
       "      <td>5261</td>\n",
       "      <td>65.0</td>\n",
       "      <td>$289,383.00</td>\n",
       "      <td>$124.83</td>\n",
       "      <td>0.86</td>\n",
       "      <td>0.98</td>\n",
       "      <td>78.5</td>\n",
       "      <td>17.19</td>\n",
       "      <td>2.40%</td>\n",
       "      <td>23.86%</td>\n",
       "    </tr>\n",
       "    <tr>\n",
       "      <th>3</th>\n",
       "      <td>Mecklenburg County</td>\n",
       "      <td>NC</td>\n",
       "      <td>2017</td>\n",
       "      <td>February</td>\n",
       "      <td>2017-02-06 00:00:00</td>\n",
       "      <td>2017-02-12</td>\n",
       "      <td>243</td>\n",
       "      <td>50</td>\n",
       "      <td>20.58%</td>\n",
       "      <td>195500.0</td>\n",
       "      <td>...</td>\n",
       "      <td>5444</td>\n",
       "      <td>59.0</td>\n",
       "      <td>$287,445.50</td>\n",
       "      <td>$125.16</td>\n",
       "      <td>0.97</td>\n",
       "      <td>0.97</td>\n",
       "      <td>78.0</td>\n",
       "      <td>22.40</td>\n",
       "      <td>2.63%</td>\n",
       "      <td>25.51%</td>\n",
       "    </tr>\n",
       "    <tr>\n",
       "      <th>4</th>\n",
       "      <td>Mecklenburg County</td>\n",
       "      <td>NC</td>\n",
       "      <td>2017</td>\n",
       "      <td>February</td>\n",
       "      <td>2017-02-20 00:00:00</td>\n",
       "      <td>2017-02-26</td>\n",
       "      <td>314</td>\n",
       "      <td>79</td>\n",
       "      <td>25.16%</td>\n",
       "      <td>228700.0</td>\n",
       "      <td>...</td>\n",
       "      <td>5776</td>\n",
       "      <td>44.0</td>\n",
       "      <td>$289,000.00</td>\n",
       "      <td>$125.79</td>\n",
       "      <td>0.99</td>\n",
       "      <td>0.99</td>\n",
       "      <td>73.0</td>\n",
       "      <td>18.39</td>\n",
       "      <td>2.57%</td>\n",
       "      <td>26.75%</td>\n",
       "    </tr>\n",
       "  </tbody>\n",
       "</table>\n",
       "<p>5 rows × 27 columns</p>\n",
       "</div>"
      ],
      "text/plain": [
       "               County State  Year     Month         Period Begin  Period End  \\\n",
       "0  Mecklenburg County    NC  2017   January  2017-01-09 00:00:00  2017-01-15   \n",
       "1  Mecklenburg County    NC  2017   January  2017-01-16 00:00:00  2017-01-22   \n",
       "2  Mecklenburg County    NC  2017   January  2017-01-30 00:00:00  2017-02-05   \n",
       "3  Mecklenburg County    NC  2017  February  2017-02-06 00:00:00  2017-02-12   \n",
       "4  Mecklenburg County    NC  2017  February  2017-02-20 00:00:00  2017-02-26   \n",
       "\n",
       "   Homes Sold  Homes Sold with Price Drop Homes Sold with Price Drop (%)  \\\n",
       "0         265                          75                         28.30%   \n",
       "1         267                          74                         27.72%   \n",
       "2         306                          81                         26.47%   \n",
       "3         243                          50                         20.58%   \n",
       "4         314                          79                         25.16%   \n",
       "\n",
       "   Median Sale Price  ...  Active Listings  Age of Inventory  \\\n",
       "0           249000.0  ...             4899              76.0   \n",
       "1           200000.0  ...             5008              74.0   \n",
       "2           209950.0  ...             5261              65.0   \n",
       "3           195500.0  ...             5444              59.0   \n",
       "4           228700.0  ...             5776              44.0   \n",
       "\n",
       "  Median List Price  Median List Price per Sqft  Average Offer to List  \\\n",
       "0       $289,877.50                     $124.89                   0.88   \n",
       "1       $285,910.00                     $124.02                   0.99   \n",
       "2       $289,383.00                     $124.83                   0.86   \n",
       "3       $287,445.50                     $125.16                   0.97   \n",
       "4       $289,000.00                     $125.79                   0.99   \n",
       "\n",
       "  Average Sale to List Ratio  Median Days on Market  Months of Supply  \\\n",
       "0                       0.98                   82.0             18.49   \n",
       "1                       0.98                   67.0             18.76   \n",
       "2                       0.98                   78.5             17.19   \n",
       "3                       0.97                   78.0             22.40   \n",
       "4                       0.99                   73.0             18.39   \n",
       "\n",
       "   Price Drops of Inventory (%) Homes Sold Above List (%)  \n",
       "0                         2.15%                    23.02%  \n",
       "1                         2.55%                    18.35%  \n",
       "2                         2.40%                    23.86%  \n",
       "3                         2.63%                    25.51%  \n",
       "4                         2.57%                    26.75%  \n",
       "\n",
       "[5 rows x 27 columns]"
      ]
     },
     "execution_count": 10,
     "metadata": {},
     "output_type": "execute_result"
    }
   ],
   "source": [
    "# Read the csv file into a pandas DataFrame\n",
    "df = pd.read_csv('Cleaned_Data/HomeSalesData_cleaned.csv')\n",
    "zip_df = pd.read_csv('Cleaned_Data/historical_2016_cleaned.csv')\n",
    "df.head()"
   ]
  },
  {
   "cell_type": "code",
   "execution_count": 11,
   "id": "dying-portal",
   "metadata": {},
   "outputs": [
    {
     "name": "stdout",
     "output_type": "stream",
     "text": [
      "Shape:  (203, 1) (203, 1)\n"
     ]
    },
    {
     "data": {
      "text/plain": [
       "array([[2017],\n",
       "       [2017],\n",
       "       [2017],\n",
       "       [2017],\n",
       "       [2017],\n",
       "       [2017],\n",
       "       [2017],\n",
       "       [2017],\n",
       "       [2017],\n",
       "       [2017],\n",
       "       [2017],\n",
       "       [2017],\n",
       "       [2017],\n",
       "       [2017],\n",
       "       [2017],\n",
       "       [2017],\n",
       "       [2017],\n",
       "       [2017],\n",
       "       [2017],\n",
       "       [2017],\n",
       "       [2017],\n",
       "       [2017],\n",
       "       [2017],\n",
       "       [2017],\n",
       "       [2017],\n",
       "       [2017],\n",
       "       [2017],\n",
       "       [2017],\n",
       "       [2017],\n",
       "       [2017],\n",
       "       [2017],\n",
       "       [2017],\n",
       "       [2017],\n",
       "       [2017],\n",
       "       [2017],\n",
       "       [2017],\n",
       "       [2017],\n",
       "       [2017],\n",
       "       [2017],\n",
       "       [2017],\n",
       "       [2017],\n",
       "       [2018],\n",
       "       [2018],\n",
       "       [2018],\n",
       "       [2018],\n",
       "       [2018],\n",
       "       [2018],\n",
       "       [2018],\n",
       "       [2018],\n",
       "       [2018],\n",
       "       [2018],\n",
       "       [2018],\n",
       "       [2018],\n",
       "       [2018],\n",
       "       [2018],\n",
       "       [2018],\n",
       "       [2018],\n",
       "       [2018],\n",
       "       [2018],\n",
       "       [2018],\n",
       "       [2018],\n",
       "       [2018],\n",
       "       [2018],\n",
       "       [2018],\n",
       "       [2018],\n",
       "       [2018],\n",
       "       [2018],\n",
       "       [2018],\n",
       "       [2018],\n",
       "       [2018],\n",
       "       [2018],\n",
       "       [2018],\n",
       "       [2018],\n",
       "       [2018],\n",
       "       [2018],\n",
       "       [2018],\n",
       "       [2018],\n",
       "       [2018],\n",
       "       [2018],\n",
       "       [2018],\n",
       "       [2018],\n",
       "       [2018],\n",
       "       [2018],\n",
       "       [2018],\n",
       "       [2018],\n",
       "       [2018],\n",
       "       [2019],\n",
       "       [2019],\n",
       "       [2019],\n",
       "       [2019],\n",
       "       [2019],\n",
       "       [2019],\n",
       "       [2019],\n",
       "       [2019],\n",
       "       [2019],\n",
       "       [2019],\n",
       "       [2019],\n",
       "       [2019],\n",
       "       [2019],\n",
       "       [2019],\n",
       "       [2019],\n",
       "       [2019],\n",
       "       [2019],\n",
       "       [2019],\n",
       "       [2019],\n",
       "       [2019],\n",
       "       [2019],\n",
       "       [2019],\n",
       "       [2019],\n",
       "       [2019],\n",
       "       [2019],\n",
       "       [2019],\n",
       "       [2019],\n",
       "       [2019],\n",
       "       [2019],\n",
       "       [2019],\n",
       "       [2019],\n",
       "       [2019],\n",
       "       [2019],\n",
       "       [2019],\n",
       "       [2019],\n",
       "       [2019],\n",
       "       [2019],\n",
       "       [2019],\n",
       "       [2019],\n",
       "       [2019],\n",
       "       [2019],\n",
       "       [2019],\n",
       "       [2019],\n",
       "       [2019],\n",
       "       [2019],\n",
       "       [2019],\n",
       "       [2019],\n",
       "       [2019],\n",
       "       [2020],\n",
       "       [2020],\n",
       "       [2020],\n",
       "       [2020],\n",
       "       [2020],\n",
       "       [2020],\n",
       "       [2020],\n",
       "       [2020],\n",
       "       [2020],\n",
       "       [2020],\n",
       "       [2020],\n",
       "       [2020],\n",
       "       [2020],\n",
       "       [2020],\n",
       "       [2020],\n",
       "       [2020],\n",
       "       [2020],\n",
       "       [2020],\n",
       "       [2020],\n",
       "       [2020],\n",
       "       [2020],\n",
       "       [2020],\n",
       "       [2020],\n",
       "       [2020],\n",
       "       [2020],\n",
       "       [2020],\n",
       "       [2020],\n",
       "       [2020],\n",
       "       [2020],\n",
       "       [2020],\n",
       "       [2020],\n",
       "       [2020],\n",
       "       [2020],\n",
       "       [2020],\n",
       "       [2020],\n",
       "       [2020],\n",
       "       [2020],\n",
       "       [2020],\n",
       "       [2020],\n",
       "       [2020],\n",
       "       [2020],\n",
       "       [2020],\n",
       "       [2020],\n",
       "       [2020],\n",
       "       [2020],\n",
       "       [2020],\n",
       "       [2020],\n",
       "       [2020],\n",
       "       [2020],\n",
       "       [2020],\n",
       "       [2021],\n",
       "       [2021],\n",
       "       [2021],\n",
       "       [2021],\n",
       "       [2021],\n",
       "       [2021],\n",
       "       [2021],\n",
       "       [2021],\n",
       "       [2021],\n",
       "       [2021],\n",
       "       [2021],\n",
       "       [2021],\n",
       "       [2021],\n",
       "       [2021],\n",
       "       [2021],\n",
       "       [2021],\n",
       "       [2021],\n",
       "       [2021],\n",
       "       [2021]])"
      ]
     },
     "execution_count": 11,
     "metadata": {},
     "output_type": "execute_result"
    }
   ],
   "source": [
    "# Assign the data to X and y\n",
    "# Note: Sklearn requires a two-dimensional array of values\n",
    "# so we use reshape to create this\n",
    "\n",
    "X = df.Year.values.reshape(-1, 1)\n",
    "y = df[\"Median Sale Price\"].values.reshape(-1, 1)\n",
    "\n",
    "print(\"Shape: \", X.shape, y.shape)\n",
    "X"
   ]
  },
  {
   "cell_type": "code",
   "execution_count": 12,
   "id": "polish-touch",
   "metadata": {},
   "outputs": [
    {
     "data": {
      "text/plain": [
       "<matplotlib.collections.PathCollection at 0x7ffaf063c6d8>"
      ]
     },
     "execution_count": 12,
     "metadata": {},
     "output_type": "execute_result"
    },
    {
     "data": {
      "image/png": "[encoded data removed]",
      "text/plain": [
       "<Figure size 432x288 with 1 Axes>"
      ]
     },
     "metadata": {
      "needs_background": "light"
     },
     "output_type": "display_data"
    }
   ],
   "source": [
    "# Plot the data\n",
    "\n",
    "plt.scatter(X, y)"
   ]
  },
  {
   "cell_type": "code",
   "execution_count": 13,
   "id": "dedicated-hepatitis",
   "metadata": {},
   "outputs": [
    {
     "data": {
      "text/plain": [
       "LinearRegression()"
      ]
     },
     "execution_count": 13,
     "metadata": {},
     "output_type": "execute_result"
    }
   ],
   "source": [
    "# Create the model and fit the model to the data\n",
    "\n",
    "model = LinearRegression()\n",
    "model"
   ]
  },
  {
   "cell_type": "code",
   "execution_count": 14,
   "id": "continuing-simpson",
   "metadata": {},
   "outputs": [
    {
     "data": {
      "text/plain": [
       "LinearRegression()"
      ]
     },
     "execution_count": 14,
     "metadata": {},
     "output_type": "execute_result"
    }
   ],
   "source": [
    "# Fit the model to the data. \n",
    "\n",
    "model.fit(X,y)"
   ]
  },
  {
   "cell_type": "code",
   "execution_count": 15,
   "id": "resistant-carpet",
   "metadata": {},
   "outputs": [
    {
     "name": "stdout",
     "output_type": "stream",
     "text": [
      "[[22153.15326244]]\n",
      "[-44451597.46653332]\n"
     ]
    }
   ],
   "source": [
    "# Print the coefficient and the intercept for the model\n",
    "print(model.coef_)\n",
    "print(model.intercept_)"
   ]
  },
  {
   "cell_type": "code",
   "execution_count": 16,
   "id": "detailed-promotion",
   "metadata": {},
   "outputs": [
    {
     "name": "stdout",
     "output_type": "stream",
     "text": [
      "Min X Value: [[2017]]\n",
      "Max X Value: [[2021]]\n"
     ]
    }
   ],
   "source": [
    "# Note: we have to transform our min and max values \n",
    "# so they are in the format: array([[ 1.17]])\n",
    "# This is the required format for `model.predict()`\n",
    "\n",
    "x_min = np.array([[X.min()]])\n",
    "x_max = np.array([[X.max()]])\n",
    "print(f\"Min X Value: {x_min}\")\n",
    "print(f\"Max X Value: {x_max}\")"
   ]
  },
  {
   "cell_type": "code",
   "execution_count": 17,
   "id": "increasing-degree",
   "metadata": {},
   "outputs": [
    {
     "name": "stdout",
     "output_type": "stream",
     "text": [
      "[[231312.66380633]]\n",
      "[[319925.27685608]]\n"
     ]
    }
   ],
   "source": [
    "# Calculate the y_min and y_max using model.predict and x_min and x_max\n",
    "y_min = model.predict(x_min)\n",
    "y_max = model.predict(x_max)\n",
    "\n",
    "print(y_min)\n",
    "print(y_max)"
   ]
  },
  {
   "cell_type": "code",
   "execution_count": 18,
   "id": "prescription-active",
   "metadata": {},
   "outputs": [
    {
     "data": {
      "text/plain": [
       "[<matplotlib.lines.Line2D at 0x7ffaef844d68>]"
      ]
     },
     "execution_count": 18,
     "metadata": {},
     "output_type": "execute_result"
    },
    {
     "data": {
      "image/png": "[encoded data removed]",
      "text/plain": [
       "<Figure size 432x288 with 1 Axes>"
      ]
     },
     "metadata": {
      "needs_background": "light"
     },
     "output_type": "display_data"
    }
   ],
   "source": [
    "# Plot X and y using plt.scatter\n",
    "# Plot the model fit line using [x_min[0], x_max[0]], [y_min[0], y_max[0]]\n",
    "plt.scatter(X,y)\n",
    "plt.plot([x_min[0], x_max[0]], [y_min[0], y_max[0]], c='red')"
   ]
  },
  {
   "cell_type": "code",
   "execution_count": 19,
   "id": "satisfactory-overview",
   "metadata": {},
   "outputs": [
    {
     "name": "stdout",
     "output_type": "stream",
     "text": [
      "Mean Squared Error (MSE): 231438300.0300217\n",
      "R-squared (R2 ): 0.7738100005160224\n"
     ]
    }
   ],
   "source": [
    "from sklearn.metrics import mean_squared_error, r2_score\n",
    "\n",
    "# Use our model to predict a value\n",
    "predicted = model.predict(X)\n",
    "\n",
    "# Score the prediction with mse and r2\n",
    "mse = mean_squared_error(y, predicted)\n",
    "r2 = r2_score(y, predicted)\n",
    "\n",
    "print(f\"Mean Squared Error (MSE): {mse}\")\n",
    "print(f\"R-squared (R2 ): {r2}\")"
   ]
  },
  {
   "cell_type": "code",
   "execution_count": 20,
   "id": "unexpected-guitar",
   "metadata": {},
   "outputs": [
    {
     "data": {
      "text/plain": [
       "0.7738100005160224"
      ]
     },
     "execution_count": 20,
     "metadata": {},
     "output_type": "execute_result"
    }
   ],
   "source": [
    "# Overall Score for the model\n",
    "model.score(X, y)"
   ]
  },
  {
   "cell_type": "code",
   "execution_count": 21,
   "id": "shared-advertising",
   "metadata": {},
   "outputs": [],
   "source": [
    "X_train, X_test, y_train, y_test = train_test_split(X, y, random_state=42)"
   ]
  },
  {
   "cell_type": "code",
   "execution_count": 22,
   "id": "plain-membrane",
   "metadata": {},
   "outputs": [
    {
     "data": {
      "text/plain": [
       "LinearRegression()"
      ]
     },
     "execution_count": 22,
     "metadata": {},
     "output_type": "execute_result"
    }
   ],
   "source": [
    "# Train the model using the training data\n",
    "model.fit(X_train, y_train)"
   ]
  },
  {
   "cell_type": "code",
   "execution_count": 23,
   "id": "limiting-artwork",
   "metadata": {},
   "outputs": [
    {
     "data": {
      "text/plain": [
       "0.8079688741959554"
      ]
     },
     "execution_count": 23,
     "metadata": {},
     "output_type": "execute_result"
    }
   ],
   "source": [
    "# Score the model using the testing data\n",
    "model.score(X_test, y_test)"
   ]
  },
  {
   "cell_type": "code",
   "execution_count": 28,
   "id": "found-symphony",
   "metadata": {},
   "outputs": [],
   "source": [
    "Xnew = [[2022], [2023], [2024], [2025], [2030], [2040], [2050], [2060], [2070]]\n",
    "ynew = model.predict(Xnew)"
   ]
  },
  {
   "cell_type": "code",
   "execution_count": 32,
   "id": "through-banner",
   "metadata": {},
   "outputs": [
    {
     "data": {
      "image/png": "[encoded data removed]",
      "text/plain": [
       "<Figure size 432x288 with 1 Axes>"
      ]
     },
     "metadata": {
      "needs_background": "light"
     },
     "output_type": "display_data"
    }
   ],
   "source": [
    "plt.scatter(Xnew,ynew)\n",
    "plt.xlabel(\"Year\")\n",
    "plt.ylabel(\"Projected Median Home Price ($)\")\n",
    "plt.title(\"Projected Home Prices in Mecklenburg\")\n",
    "plt.savefig(\"Images/Projected_Prices.png\")"
   ]
  },
  {
   "cell_type": "code",
   "execution_count": null,
   "id": "authorized-consensus",
   "metadata": {},
   "outputs": [],
   "source": []
  }
 ],
 "metadata": {
  "kernelspec": {
   "display_name": "PythonData",
   "language": "python",
   "name": "pythondata"
  },
  "language_info": {
   "codemirror_mode": {
    "name": "ipython",
    "version": 3
   },
   "file_extension": ".py",
   "mimetype": "text/x-python",
   "name": "python",
   "nbconvert_exporter": "python",
   "pygments_lexer": "ipython3",
   "version": "3.6.10"
  }
 },
 "nbformat": 4,
 "nbformat_minor": 5
}
