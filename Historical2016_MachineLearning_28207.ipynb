{
 "cells": [
  {
   "cell_type": "code",
   "execution_count": 1,
   "id": "partial-estonia",
   "metadata": {},
   "outputs": [],
   "source": [
    "import pandas as pd\n",
    "import os\n",
    "%matplotlib inline\n",
    "import matplotlib.pyplot as plt\n",
    "import numpy as np\n",
    "from sklearn.model_selection import train_test_split\n",
    "from sklearn.linear_model import LinearRegression"
   ]
  },
  {
   "cell_type": "code",
   "execution_count": 2,
   "id": "chinese-structure",
   "metadata": {},
   "outputs": [
    {
     "data": {
      "text/html": [
       "<div>\n",
       "<style scoped>\n",
       "    .dataframe tbody tr th:only-of-type {\n",
       "        vertical-align: middle;\n",
       "    }\n",
       "\n",
       "    .dataframe tbody tr th {\n",
       "        vertical-align: top;\n",
       "    }\n",
       "\n",
       "    .dataframe thead th {\n",
       "        text-align: right;\n",
       "    }\n",
       "</style>\n",
       "<table border=\"1\" class=\"dataframe\">\n",
       "  <thead>\n",
       "    <tr style=\"text-align: right;\">\n",
       "      <th></th>\n",
       "      <th>Year/Month</th>\n",
       "      <th>Date</th>\n",
       "      <th>Year</th>\n",
       "      <th>Month</th>\n",
       "      <th>Zip Code</th>\n",
       "      <th>City</th>\n",
       "      <th>State</th>\n",
       "      <th>Median Listing Price</th>\n",
       "      <th>Average Listing Price</th>\n",
       "      <th>Active Listing Count</th>\n",
       "      <th>Median Days on Market</th>\n",
       "      <th>New Listing Count</th>\n",
       "      <th>Price Increased Count</th>\n",
       "      <th>Price Reduced Count</th>\n",
       "      <th>Pending Listing Count</th>\n",
       "      <th>Median Price per Square Foot (List Price)</th>\n",
       "      <th>Median Square Feet</th>\n",
       "      <th>Total Listing Count</th>\n",
       "      <th>Pending Ratio</th>\n",
       "    </tr>\n",
       "  </thead>\n",
       "  <tbody>\n",
       "    <tr>\n",
       "      <th>0</th>\n",
       "      <td>202104</td>\n",
       "      <td>2021-04-01</td>\n",
       "      <td>2021</td>\n",
       "      <td>April</td>\n",
       "      <td>28213</td>\n",
       "      <td>charlotte</td>\n",
       "      <td>nc</td>\n",
       "      <td>280117.5</td>\n",
       "      <td>285710.02</td>\n",
       "      <td>16</td>\n",
       "      <td>11.0</td>\n",
       "      <td>36</td>\n",
       "      <td>0</td>\n",
       "      <td>0</td>\n",
       "      <td>28</td>\n",
       "      <td>138.05</td>\n",
       "      <td>2,109.0</td>\n",
       "      <td>44</td>\n",
       "      <td>1.750000</td>\n",
       "    </tr>\n",
       "    <tr>\n",
       "      <th>1</th>\n",
       "      <td>202104</td>\n",
       "      <td>2021-04-01</td>\n",
       "      <td>2021</td>\n",
       "      <td>April</td>\n",
       "      <td>28262</td>\n",
       "      <td>charlotte</td>\n",
       "      <td>nc</td>\n",
       "      <td>370700.0</td>\n",
       "      <td>337630.05</td>\n",
       "      <td>13</td>\n",
       "      <td>12.5</td>\n",
       "      <td>12</td>\n",
       "      <td>0</td>\n",
       "      <td>0</td>\n",
       "      <td>26</td>\n",
       "      <td>162.75</td>\n",
       "      <td>2,262.0</td>\n",
       "      <td>39</td>\n",
       "      <td>2.000000</td>\n",
       "    </tr>\n",
       "    <tr>\n",
       "      <th>2</th>\n",
       "      <td>202104</td>\n",
       "      <td>2021-04-01</td>\n",
       "      <td>2021</td>\n",
       "      <td>April</td>\n",
       "      <td>28207</td>\n",
       "      <td>charlotte</td>\n",
       "      <td>nc</td>\n",
       "      <td>1299250.0</td>\n",
       "      <td>1530404.68</td>\n",
       "      <td>52</td>\n",
       "      <td>90.5</td>\n",
       "      <td>20</td>\n",
       "      <td>0</td>\n",
       "      <td>12</td>\n",
       "      <td>45</td>\n",
       "      <td>447.01</td>\n",
       "      <td>2,740.5</td>\n",
       "      <td>97</td>\n",
       "      <td>0.865385</td>\n",
       "    </tr>\n",
       "    <tr>\n",
       "      <th>3</th>\n",
       "      <td>202104</td>\n",
       "      <td>2021-04-01</td>\n",
       "      <td>2021</td>\n",
       "      <td>April</td>\n",
       "      <td>28202</td>\n",
       "      <td>charlotte</td>\n",
       "      <td>nc</td>\n",
       "      <td>409950.0</td>\n",
       "      <td>559791.09</td>\n",
       "      <td>85</td>\n",
       "      <td>48.0</td>\n",
       "      <td>28</td>\n",
       "      <td>0</td>\n",
       "      <td>20</td>\n",
       "      <td>41</td>\n",
       "      <td>343.04</td>\n",
       "      <td>1,221.5</td>\n",
       "      <td>126</td>\n",
       "      <td>0.482353</td>\n",
       "    </tr>\n",
       "    <tr>\n",
       "      <th>4</th>\n",
       "      <td>202104</td>\n",
       "      <td>2021-04-01</td>\n",
       "      <td>2021</td>\n",
       "      <td>April</td>\n",
       "      <td>28226</td>\n",
       "      <td>charlotte</td>\n",
       "      <td>nc</td>\n",
       "      <td>630517.5</td>\n",
       "      <td>949039.63</td>\n",
       "      <td>52</td>\n",
       "      <td>38.5</td>\n",
       "      <td>48</td>\n",
       "      <td>4</td>\n",
       "      <td>16</td>\n",
       "      <td>78</td>\n",
       "      <td>231.56</td>\n",
       "      <td>2,870.0</td>\n",
       "      <td>130</td>\n",
       "      <td>1.500000</td>\n",
       "    </tr>\n",
       "  </tbody>\n",
       "</table>\n",
       "</div>"
      ],
      "text/plain": [
       "   Year/Month        Date  Year  Month  Zip Code       City State  \\\n",
       "0      202104  2021-04-01  2021  April     28213  charlotte    nc   \n",
       "1      202104  2021-04-01  2021  April     28262  charlotte    nc   \n",
       "2      202104  2021-04-01  2021  April     28207  charlotte    nc   \n",
       "3      202104  2021-04-01  2021  April     28202  charlotte    nc   \n",
       "4      202104  2021-04-01  2021  April     28226  charlotte    nc   \n",
       "\n",
       "   Median Listing Price  Average Listing Price  Active Listing Count  \\\n",
       "0              280117.5              285710.02                    16   \n",
       "1              370700.0              337630.05                    13   \n",
       "2             1299250.0             1530404.68                    52   \n",
       "3              409950.0              559791.09                    85   \n",
       "4              630517.5              949039.63                    52   \n",
       "\n",
       "   Median Days on Market  New Listing Count  Price Increased Count  \\\n",
       "0                   11.0                 36                      0   \n",
       "1                   12.5                 12                      0   \n",
       "2                   90.5                 20                      0   \n",
       "3                   48.0                 28                      0   \n",
       "4                   38.5                 48                      4   \n",
       "\n",
       "   Price Reduced Count  Pending Listing Count  \\\n",
       "0                    0                     28   \n",
       "1                    0                     26   \n",
       "2                   12                     45   \n",
       "3                   20                     41   \n",
       "4                   16                     78   \n",
       "\n",
       "   Median Price per Square Foot (List Price) Median Square Feet  \\\n",
       "0                                     138.05            2,109.0   \n",
       "1                                     162.75            2,262.0   \n",
       "2                                     447.01            2,740.5   \n",
       "3                                     343.04            1,221.5   \n",
       "4                                     231.56            2,870.0   \n",
       "\n",
       "   Total Listing Count  Pending Ratio  \n",
       "0                   44       1.750000  \n",
       "1                   39       2.000000  \n",
       "2                   97       0.865385  \n",
       "3                  126       0.482353  \n",
       "4                  130       1.500000  "
      ]
     },
     "execution_count": 2,
     "metadata": {},
     "output_type": "execute_result"
    }
   ],
   "source": [
    "# Read the csv file into a pandas DataFrame\n",
    "df = pd.read_csv('Cleaned_Data/historical_2016_cleaned.csv')\n",
    "df.head()"
   ]
  },
  {
   "cell_type": "code",
   "execution_count": 3,
   "id": "duplicate-paraguay",
   "metadata": {},
   "outputs": [
    {
     "data": {
      "text/html": [
       "<div>\n",
       "<style scoped>\n",
       "    .dataframe tbody tr th:only-of-type {\n",
       "        vertical-align: middle;\n",
       "    }\n",
       "\n",
       "    .dataframe tbody tr th {\n",
       "        vertical-align: top;\n",
       "    }\n",
       "\n",
       "    .dataframe thead th {\n",
       "        text-align: right;\n",
       "    }\n",
       "</style>\n",
       "<table border=\"1\" class=\"dataframe\">\n",
       "  <thead>\n",
       "    <tr style=\"text-align: right;\">\n",
       "      <th></th>\n",
       "      <th>Year/Month</th>\n",
       "      <th>Zip Code</th>\n",
       "      <th>Average Listing Price</th>\n",
       "    </tr>\n",
       "  </thead>\n",
       "  <tbody>\n",
       "    <tr>\n",
       "      <th>0</th>\n",
       "      <td>202104</td>\n",
       "      <td>28213</td>\n",
       "      <td>285710.02</td>\n",
       "    </tr>\n",
       "    <tr>\n",
       "      <th>1</th>\n",
       "      <td>202104</td>\n",
       "      <td>28262</td>\n",
       "      <td>337630.05</td>\n",
       "    </tr>\n",
       "    <tr>\n",
       "      <th>2</th>\n",
       "      <td>202104</td>\n",
       "      <td>28207</td>\n",
       "      <td>1530404.68</td>\n",
       "    </tr>\n",
       "    <tr>\n",
       "      <th>3</th>\n",
       "      <td>202104</td>\n",
       "      <td>28202</td>\n",
       "      <td>559791.09</td>\n",
       "    </tr>\n",
       "    <tr>\n",
       "      <th>4</th>\n",
       "      <td>202104</td>\n",
       "      <td>28226</td>\n",
       "      <td>949039.63</td>\n",
       "    </tr>\n",
       "  </tbody>\n",
       "</table>\n",
       "</div>"
      ],
      "text/plain": [
       "   Year/Month  Zip Code  Average Listing Price\n",
       "0      202104     28213              285710.02\n",
       "1      202104     28262              337630.05\n",
       "2      202104     28207             1530404.68\n",
       "3      202104     28202              559791.09\n",
       "4      202104     28226              949039.63"
      ]
     },
     "execution_count": 3,
     "metadata": {},
     "output_type": "execute_result"
    }
   ],
   "source": [
    "df = df[[\"Year/Month\", \"Zip Code\", \"Average Listing Price\"]]\n",
    "df.head()"
   ]
  },
  {
   "cell_type": "code",
   "execution_count": 4,
   "id": "discrete-noise",
   "metadata": {},
   "outputs": [],
   "source": [
    "# 28207, 28226, 28278, 28213"
   ]
  },
  {
   "cell_type": "code",
   "execution_count": 5,
   "id": "weird-berry",
   "metadata": {},
   "outputs": [],
   "source": [
    "# filter new dataframe to include only certain zipcode\n",
    "df_28207 = df.loc[df[\"Zip Code\"] == 28207]\n",
    "df_28226 = df.loc[df[\"Zip Code\"] == 28226]\n",
    "df_28278 = df.loc[df[\"Zip Code\"] == 28278]\n",
    "df_28213 = df.loc[df[\"Zip Code\"] == 28213]"
   ]
  },
  {
   "cell_type": "code",
   "execution_count": 6,
   "id": "motivated-booth",
   "metadata": {},
   "outputs": [
    {
     "data": {
      "text/html": [
       "<div>\n",
       "<style scoped>\n",
       "    .dataframe tbody tr th:only-of-type {\n",
       "        vertical-align: middle;\n",
       "    }\n",
       "\n",
       "    .dataframe tbody tr th {\n",
       "        vertical-align: top;\n",
       "    }\n",
       "\n",
       "    .dataframe thead th {\n",
       "        text-align: right;\n",
       "    }\n",
       "</style>\n",
       "<table border=\"1\" class=\"dataframe\">\n",
       "  <thead>\n",
       "    <tr style=\"text-align: right;\">\n",
       "      <th></th>\n",
       "      <th>Year/Month</th>\n",
       "      <th>Zip Code</th>\n",
       "      <th>Average Listing Price</th>\n",
       "    </tr>\n",
       "  </thead>\n",
       "  <tbody>\n",
       "    <tr>\n",
       "      <th>2</th>\n",
       "      <td>202104</td>\n",
       "      <td>28207</td>\n",
       "      <td>1530404.68</td>\n",
       "    </tr>\n",
       "    <tr>\n",
       "      <th>38</th>\n",
       "      <td>202103</td>\n",
       "      <td>28207</td>\n",
       "      <td>1409480.20</td>\n",
       "    </tr>\n",
       "    <tr>\n",
       "      <th>62</th>\n",
       "      <td>202102</td>\n",
       "      <td>28207</td>\n",
       "      <td>1327490.14</td>\n",
       "    </tr>\n",
       "    <tr>\n",
       "      <th>76</th>\n",
       "      <td>202101</td>\n",
       "      <td>28207</td>\n",
       "      <td>1383325.31</td>\n",
       "    </tr>\n",
       "    <tr>\n",
       "      <th>94</th>\n",
       "      <td>202012</td>\n",
       "      <td>28207</td>\n",
       "      <td>1330148.75</td>\n",
       "    </tr>\n",
       "    <tr>\n",
       "      <th>117</th>\n",
       "      <td>202011</td>\n",
       "      <td>28207</td>\n",
       "      <td>1274776.10</td>\n",
       "    </tr>\n",
       "    <tr>\n",
       "      <th>147</th>\n",
       "      <td>202010</td>\n",
       "      <td>28207</td>\n",
       "      <td>1362775.90</td>\n",
       "    </tr>\n",
       "    <tr>\n",
       "      <th>162</th>\n",
       "      <td>202009</td>\n",
       "      <td>28207</td>\n",
       "      <td>1464917.26</td>\n",
       "    </tr>\n",
       "    <tr>\n",
       "      <th>188</th>\n",
       "      <td>202008</td>\n",
       "      <td>28207</td>\n",
       "      <td>1475778.51</td>\n",
       "    </tr>\n",
       "    <tr>\n",
       "      <th>222</th>\n",
       "      <td>202007</td>\n",
       "      <td>28207</td>\n",
       "      <td>1500399.81</td>\n",
       "    </tr>\n",
       "    <tr>\n",
       "      <th>243</th>\n",
       "      <td>202006</td>\n",
       "      <td>28207</td>\n",
       "      <td>1442080.33</td>\n",
       "    </tr>\n",
       "    <tr>\n",
       "      <th>249</th>\n",
       "      <td>202005</td>\n",
       "      <td>28207</td>\n",
       "      <td>1408372.29</td>\n",
       "    </tr>\n",
       "    <tr>\n",
       "      <th>283</th>\n",
       "      <td>202004</td>\n",
       "      <td>28207</td>\n",
       "      <td>1438475.91</td>\n",
       "    </tr>\n",
       "    <tr>\n",
       "      <th>298</th>\n",
       "      <td>202003</td>\n",
       "      <td>28207</td>\n",
       "      <td>1607657.41</td>\n",
       "    </tr>\n",
       "    <tr>\n",
       "      <th>319</th>\n",
       "      <td>202002</td>\n",
       "      <td>28207</td>\n",
       "      <td>1414318.85</td>\n",
       "    </tr>\n",
       "    <tr>\n",
       "      <th>357</th>\n",
       "      <td>202001</td>\n",
       "      <td>28207</td>\n",
       "      <td>1282173.82</td>\n",
       "    </tr>\n",
       "    <tr>\n",
       "      <th>382</th>\n",
       "      <td>201912</td>\n",
       "      <td>28207</td>\n",
       "      <td>1196799.89</td>\n",
       "    </tr>\n",
       "    <tr>\n",
       "      <th>400</th>\n",
       "      <td>201911</td>\n",
       "      <td>28207</td>\n",
       "      <td>1302247.83</td>\n",
       "    </tr>\n",
       "    <tr>\n",
       "      <th>413</th>\n",
       "      <td>201910</td>\n",
       "      <td>28207</td>\n",
       "      <td>1443478.49</td>\n",
       "    </tr>\n",
       "    <tr>\n",
       "      <th>447</th>\n",
       "      <td>201909</td>\n",
       "      <td>28207</td>\n",
       "      <td>1504621.40</td>\n",
       "    </tr>\n",
       "    <tr>\n",
       "      <th>478</th>\n",
       "      <td>201908</td>\n",
       "      <td>28207</td>\n",
       "      <td>1498974.06</td>\n",
       "    </tr>\n",
       "    <tr>\n",
       "      <th>503</th>\n",
       "      <td>201907</td>\n",
       "      <td>28207</td>\n",
       "      <td>1538653.03</td>\n",
       "    </tr>\n",
       "    <tr>\n",
       "      <th>521</th>\n",
       "      <td>201906</td>\n",
       "      <td>28207</td>\n",
       "      <td>1556945.52</td>\n",
       "    </tr>\n",
       "    <tr>\n",
       "      <th>529</th>\n",
       "      <td>201905</td>\n",
       "      <td>28207</td>\n",
       "      <td>1509878.68</td>\n",
       "    </tr>\n",
       "    <tr>\n",
       "      <th>553</th>\n",
       "      <td>201904</td>\n",
       "      <td>28207</td>\n",
       "      <td>1509624.84</td>\n",
       "    </tr>\n",
       "    <tr>\n",
       "      <th>590</th>\n",
       "      <td>201903</td>\n",
       "      <td>28207</td>\n",
       "      <td>1488314.92</td>\n",
       "    </tr>\n",
       "    <tr>\n",
       "      <th>600</th>\n",
       "      <td>201902</td>\n",
       "      <td>28207</td>\n",
       "      <td>1455291.22</td>\n",
       "    </tr>\n",
       "    <tr>\n",
       "      <th>627</th>\n",
       "      <td>201901</td>\n",
       "      <td>28207</td>\n",
       "      <td>1369968.99</td>\n",
       "    </tr>\n",
       "    <tr>\n",
       "      <th>654</th>\n",
       "      <td>201812</td>\n",
       "      <td>28207</td>\n",
       "      <td>1307754.79</td>\n",
       "    </tr>\n",
       "    <tr>\n",
       "      <th>678</th>\n",
       "      <td>201811</td>\n",
       "      <td>28207</td>\n",
       "      <td>1297498.37</td>\n",
       "    </tr>\n",
       "    <tr>\n",
       "      <th>714</th>\n",
       "      <td>201810</td>\n",
       "      <td>28207</td>\n",
       "      <td>1288119.56</td>\n",
       "    </tr>\n",
       "    <tr>\n",
       "      <th>725</th>\n",
       "      <td>201809</td>\n",
       "      <td>28207</td>\n",
       "      <td>1212317.81</td>\n",
       "    </tr>\n",
       "    <tr>\n",
       "      <th>757</th>\n",
       "      <td>201808</td>\n",
       "      <td>28207</td>\n",
       "      <td>1337266.55</td>\n",
       "    </tr>\n",
       "    <tr>\n",
       "      <th>771</th>\n",
       "      <td>201807</td>\n",
       "      <td>28207</td>\n",
       "      <td>1383766.01</td>\n",
       "    </tr>\n",
       "    <tr>\n",
       "      <th>790</th>\n",
       "      <td>201806</td>\n",
       "      <td>28207</td>\n",
       "      <td>1498539.99</td>\n",
       "    </tr>\n",
       "    <tr>\n",
       "      <th>831</th>\n",
       "      <td>201805</td>\n",
       "      <td>28207</td>\n",
       "      <td>1530994.08</td>\n",
       "    </tr>\n",
       "    <tr>\n",
       "      <th>844</th>\n",
       "      <td>201804</td>\n",
       "      <td>28207</td>\n",
       "      <td>1556920.72</td>\n",
       "    </tr>\n",
       "    <tr>\n",
       "      <th>863</th>\n",
       "      <td>201803</td>\n",
       "      <td>28207</td>\n",
       "      <td>1555390.00</td>\n",
       "    </tr>\n",
       "    <tr>\n",
       "      <th>894</th>\n",
       "      <td>201802</td>\n",
       "      <td>28207</td>\n",
       "      <td>1425548.72</td>\n",
       "    </tr>\n",
       "    <tr>\n",
       "      <th>922</th>\n",
       "      <td>201801</td>\n",
       "      <td>28207</td>\n",
       "      <td>1232300.22</td>\n",
       "    </tr>\n",
       "    <tr>\n",
       "      <th>948</th>\n",
       "      <td>201712</td>\n",
       "      <td>28207</td>\n",
       "      <td>1119117.58</td>\n",
       "    </tr>\n",
       "    <tr>\n",
       "      <th>952</th>\n",
       "      <td>201711</td>\n",
       "      <td>28207</td>\n",
       "      <td>1211606.48</td>\n",
       "    </tr>\n",
       "    <tr>\n",
       "      <th>979</th>\n",
       "      <td>201710</td>\n",
       "      <td>28207</td>\n",
       "      <td>1287806.30</td>\n",
       "    </tr>\n",
       "    <tr>\n",
       "      <th>1015</th>\n",
       "      <td>201709</td>\n",
       "      <td>28207</td>\n",
       "      <td>1274767.13</td>\n",
       "    </tr>\n",
       "    <tr>\n",
       "      <th>1026</th>\n",
       "      <td>201708</td>\n",
       "      <td>28207</td>\n",
       "      <td>1300893.97</td>\n",
       "    </tr>\n",
       "    <tr>\n",
       "      <th>1061</th>\n",
       "      <td>201707</td>\n",
       "      <td>28207</td>\n",
       "      <td>1315062.66</td>\n",
       "    </tr>\n",
       "    <tr>\n",
       "      <th>1088</th>\n",
       "      <td>201706</td>\n",
       "      <td>28207</td>\n",
       "      <td>1370306.45</td>\n",
       "    </tr>\n",
       "    <tr>\n",
       "      <th>1103</th>\n",
       "      <td>201705</td>\n",
       "      <td>28207</td>\n",
       "      <td>1396732.85</td>\n",
       "    </tr>\n",
       "    <tr>\n",
       "      <th>1126</th>\n",
       "      <td>201704</td>\n",
       "      <td>28207</td>\n",
       "      <td>1410278.54</td>\n",
       "    </tr>\n",
       "    <tr>\n",
       "      <th>1141</th>\n",
       "      <td>201703</td>\n",
       "      <td>28207</td>\n",
       "      <td>1364553.75</td>\n",
       "    </tr>\n",
       "    <tr>\n",
       "      <th>1171</th>\n",
       "      <td>201702</td>\n",
       "      <td>28207</td>\n",
       "      <td>1432817.76</td>\n",
       "    </tr>\n",
       "    <tr>\n",
       "      <th>1190</th>\n",
       "      <td>201701</td>\n",
       "      <td>28207</td>\n",
       "      <td>1418112.96</td>\n",
       "    </tr>\n",
       "    <tr>\n",
       "      <th>1215</th>\n",
       "      <td>201612</td>\n",
       "      <td>28207</td>\n",
       "      <td>1409373.93</td>\n",
       "    </tr>\n",
       "    <tr>\n",
       "      <th>1227</th>\n",
       "      <td>201611</td>\n",
       "      <td>28207</td>\n",
       "      <td>1336844.43</td>\n",
       "    </tr>\n",
       "    <tr>\n",
       "      <th>1259</th>\n",
       "      <td>201610</td>\n",
       "      <td>28207</td>\n",
       "      <td>1293808.88</td>\n",
       "    </tr>\n",
       "    <tr>\n",
       "      <th>1288</th>\n",
       "      <td>201609</td>\n",
       "      <td>28207</td>\n",
       "      <td>1316617.60</td>\n",
       "    </tr>\n",
       "    <tr>\n",
       "      <th>1310</th>\n",
       "      <td>201608</td>\n",
       "      <td>28207</td>\n",
       "      <td>1319071.24</td>\n",
       "    </tr>\n",
       "    <tr>\n",
       "      <th>1342</th>\n",
       "      <td>201607</td>\n",
       "      <td>28207</td>\n",
       "      <td>1261453.15</td>\n",
       "    </tr>\n",
       "  </tbody>\n",
       "</table>\n",
       "</div>"
      ],
      "text/plain": [
       "      Year/Month  Zip Code  Average Listing Price\n",
       "2         202104     28207             1530404.68\n",
       "38        202103     28207             1409480.20\n",
       "62        202102     28207             1327490.14\n",
       "76        202101     28207             1383325.31\n",
       "94        202012     28207             1330148.75\n",
       "117       202011     28207             1274776.10\n",
       "147       202010     28207             1362775.90\n",
       "162       202009     28207             1464917.26\n",
       "188       202008     28207             1475778.51\n",
       "222       202007     28207             1500399.81\n",
       "243       202006     28207             1442080.33\n",
       "249       202005     28207             1408372.29\n",
       "283       202004     28207             1438475.91\n",
       "298       202003     28207             1607657.41\n",
       "319       202002     28207             1414318.85\n",
       "357       202001     28207             1282173.82\n",
       "382       201912     28207             1196799.89\n",
       "400       201911     28207             1302247.83\n",
       "413       201910     28207             1443478.49\n",
       "447       201909     28207             1504621.40\n",
       "478       201908     28207             1498974.06\n",
       "503       201907     28207             1538653.03\n",
       "521       201906     28207             1556945.52\n",
       "529       201905     28207             1509878.68\n",
       "553       201904     28207             1509624.84\n",
       "590       201903     28207             1488314.92\n",
       "600       201902     28207             1455291.22\n",
       "627       201901     28207             1369968.99\n",
       "654       201812     28207             1307754.79\n",
       "678       201811     28207             1297498.37\n",
       "714       201810     28207             1288119.56\n",
       "725       201809     28207             1212317.81\n",
       "757       201808     28207             1337266.55\n",
       "771       201807     28207             1383766.01\n",
       "790       201806     28207             1498539.99\n",
       "831       201805     28207             1530994.08\n",
       "844       201804     28207             1556920.72\n",
       "863       201803     28207             1555390.00\n",
       "894       201802     28207             1425548.72\n",
       "922       201801     28207             1232300.22\n",
       "948       201712     28207             1119117.58\n",
       "952       201711     28207             1211606.48\n",
       "979       201710     28207             1287806.30\n",
       "1015      201709     28207             1274767.13\n",
       "1026      201708     28207             1300893.97\n",
       "1061      201707     28207             1315062.66\n",
       "1088      201706     28207             1370306.45\n",
       "1103      201705     28207             1396732.85\n",
       "1126      201704     28207             1410278.54\n",
       "1141      201703     28207             1364553.75\n",
       "1171      201702     28207             1432817.76\n",
       "1190      201701     28207             1418112.96\n",
       "1215      201612     28207             1409373.93\n",
       "1227      201611     28207             1336844.43\n",
       "1259      201610     28207             1293808.88\n",
       "1288      201609     28207             1316617.60\n",
       "1310      201608     28207             1319071.24\n",
       "1342      201607     28207             1261453.15"
      ]
     },
     "execution_count": 6,
     "metadata": {},
     "output_type": "execute_result"
    }
   ],
   "source": [
    "df_28207"
   ]
  },
  {
   "cell_type": "code",
   "execution_count": 7,
   "id": "honest-dispute",
   "metadata": {},
   "outputs": [
    {
     "data": {
      "text/plain": [
       "Year/Month                 int64\n",
       "Zip Code                   int64\n",
       "Average Listing Price    float64\n",
       "dtype: object"
      ]
     },
     "execution_count": 7,
     "metadata": {},
     "output_type": "execute_result"
    }
   ],
   "source": [
    "df_28207.dtypes"
   ]
  },
  {
   "cell_type": "code",
   "execution_count": 8,
   "id": "turkish-payroll",
   "metadata": {},
   "outputs": [
    {
     "name": "stdout",
     "output_type": "stream",
     "text": [
      "Shape:  (58, 1) (58, 1)\n"
     ]
    },
    {
     "data": {
      "text/plain": [
       "array([[202104],\n",
       "       [202103],\n",
       "       [202102],\n",
       "       [202101],\n",
       "       [202012],\n",
       "       [202011],\n",
       "       [202010],\n",
       "       [202009],\n",
       "       [202008],\n",
       "       [202007],\n",
       "       [202006],\n",
       "       [202005],\n",
       "       [202004],\n",
       "       [202003],\n",
       "       [202002],\n",
       "       [202001],\n",
       "       [201912],\n",
       "       [201911],\n",
       "       [201910],\n",
       "       [201909],\n",
       "       [201908],\n",
       "       [201907],\n",
       "       [201906],\n",
       "       [201905],\n",
       "       [201904],\n",
       "       [201903],\n",
       "       [201902],\n",
       "       [201901],\n",
       "       [201812],\n",
       "       [201811],\n",
       "       [201810],\n",
       "       [201809],\n",
       "       [201808],\n",
       "       [201807],\n",
       "       [201806],\n",
       "       [201805],\n",
       "       [201804],\n",
       "       [201803],\n",
       "       [201802],\n",
       "       [201801],\n",
       "       [201712],\n",
       "       [201711],\n",
       "       [201710],\n",
       "       [201709],\n",
       "       [201708],\n",
       "       [201707],\n",
       "       [201706],\n",
       "       [201705],\n",
       "       [201704],\n",
       "       [201703],\n",
       "       [201702],\n",
       "       [201701],\n",
       "       [201612],\n",
       "       [201611],\n",
       "       [201610],\n",
       "       [201609],\n",
       "       [201608],\n",
       "       [201607]])"
      ]
     },
     "execution_count": 8,
     "metadata": {},
     "output_type": "execute_result"
    }
   ],
   "source": [
    "# Assign the data to X and y\n",
    "X = df_28207[\"Year/Month\"].values.reshape(-1, 1)\n",
    "y = df_28207[\"Average Listing Price\"].values.reshape(-1, 1)\n",
    "\n",
    "print(\"Shape: \", X.shape, y.shape)\n",
    "X"
   ]
  },
  {
   "cell_type": "code",
   "execution_count": 9,
   "id": "split-springfield",
   "metadata": {},
   "outputs": [
    {
     "data": {
      "text/plain": [
       "<matplotlib.collections.PathCollection at 0x7f9474578160>"
      ]
     },
     "execution_count": 9,
     "metadata": {},
     "output_type": "execute_result"
    },
    {
     "data": {
      "image/png": "[encoded data removed]",
      "text/plain": [
       "<Figure size 432x288 with 1 Axes>"
      ]
     },
     "metadata": {
      "needs_background": "light"
     },
     "output_type": "display_data"
    }
   ],
   "source": [
    "# Plot the data\n",
    "\n",
    "plt.scatter(X, y)"
   ]
  },
  {
   "cell_type": "code",
   "execution_count": 10,
   "id": "gorgeous-investment",
   "metadata": {},
   "outputs": [
    {
     "data": {
      "text/plain": [
       "LinearRegression()"
      ]
     },
     "execution_count": 10,
     "metadata": {},
     "output_type": "execute_result"
    }
   ],
   "source": [
    "# Create the model and fit the model to the data\n",
    "\n",
    "model = LinearRegression()\n",
    "model"
   ]
  },
  {
   "cell_type": "code",
   "execution_count": 11,
   "id": "rising-fossil",
   "metadata": {},
   "outputs": [
    {
     "data": {
      "text/plain": [
       "LinearRegression()"
      ]
     },
     "execution_count": 11,
     "metadata": {},
     "output_type": "execute_result"
    }
   ],
   "source": [
    "# Fit the model to the data. \n",
    "\n",
    "model.fit(X,y)"
   ]
  },
  {
   "cell_type": "code",
   "execution_count": 12,
   "id": "color-maple",
   "metadata": {},
   "outputs": [
    {
     "name": "stdout",
     "output_type": "stream",
     "text": [
      "Min X Value: [[201607]]\n",
      "Max X Value: [[202104]]\n"
     ]
    }
   ],
   "source": [
    "x_min = np.array([[X.min()]])\n",
    "x_max = np.array([[X.max()]])\n",
    "print(f\"Min X Value: {x_min}\")\n",
    "print(f\"Max X Value: {x_max}\")"
   ]
  },
  {
   "cell_type": "code",
   "execution_count": 13,
   "id": "proved-syndrome",
   "metadata": {},
   "outputs": [
    {
     "data": {
      "text/plain": [
       "array([[202104],\n",
       "       [202103],\n",
       "       [202102],\n",
       "       [202101],\n",
       "       [202012],\n",
       "       [202011],\n",
       "       [202010],\n",
       "       [202009],\n",
       "       [202008],\n",
       "       [202007],\n",
       "       [202006],\n",
       "       [202005],\n",
       "       [202004],\n",
       "       [202003],\n",
       "       [202002],\n",
       "       [202001],\n",
       "       [201912],\n",
       "       [201911],\n",
       "       [201910],\n",
       "       [201909],\n",
       "       [201908],\n",
       "       [201907],\n",
       "       [201906],\n",
       "       [201905],\n",
       "       [201904],\n",
       "       [201903],\n",
       "       [201902],\n",
       "       [201901],\n",
       "       [201812],\n",
       "       [201811],\n",
       "       [201810],\n",
       "       [201809],\n",
       "       [201808],\n",
       "       [201807],\n",
       "       [201806],\n",
       "       [201805],\n",
       "       [201804],\n",
       "       [201803],\n",
       "       [201802],\n",
       "       [201801],\n",
       "       [201712],\n",
       "       [201711],\n",
       "       [201710],\n",
       "       [201709],\n",
       "       [201708],\n",
       "       [201707],\n",
       "       [201706],\n",
       "       [201705],\n",
       "       [201704],\n",
       "       [201703],\n",
       "       [201702],\n",
       "       [201701],\n",
       "       [201612],\n",
       "       [201611],\n",
       "       [201610],\n",
       "       [201609],\n",
       "       [201608],\n",
       "       [201607]])"
      ]
     },
     "execution_count": 13,
     "metadata": {},
     "output_type": "execute_result"
    }
   ],
   "source": [
    "X"
   ]
  },
  {
   "cell_type": "code",
   "execution_count": 14,
   "id": "undefined-nation",
   "metadata": {},
   "outputs": [
    {
     "name": "stdout",
     "output_type": "stream",
     "text": [
      "[[1324768.90036489]]\n",
      "[[1454822.64245476]]\n"
     ]
    }
   ],
   "source": [
    "# Calculate the y_min and y_max using model.predict and x_min and x_max\n",
    "y_min = model.predict(x_min)\n",
    "y_max = model.predict(x_max)\n",
    "\n",
    "print(y_min)\n",
    "print(y_max)"
   ]
  },
  {
   "cell_type": "code",
   "execution_count": 15,
   "id": "regional-bridges",
   "metadata": {},
   "outputs": [
    {
     "data": {
      "text/plain": [
       "[<matplotlib.lines.Line2D at 0x7f9476f834e0>]"
      ]
     },
     "execution_count": 15,
     "metadata": {},
     "output_type": "execute_result"
    },
    {
     "data": {
      "image/png": "[encoded data removed]",
      "text/plain": [
       "<Figure size 432x288 with 1 Axes>"
      ]
     },
     "metadata": {
      "needs_background": "light"
     },
     "output_type": "display_data"
    }
   ],
   "source": [
    "# Plot X and y using plt.scatter\n",
    "# Plot the model fit line using [x_min[0], x_max[0]], [y_min[0], y_max[0]]\n",
    "plt.scatter(X,y)\n",
    "plt.plot([x_min[0], x_max[0]], [y_min[0], y_max[0]], c='red')"
   ]
  },
  {
   "cell_type": "code",
   "execution_count": 16,
   "id": "leading-nickel",
   "metadata": {},
   "outputs": [
    {
     "name": "stdout",
     "output_type": "stream",
     "text": [
      "Mean Squared Error (MSE): 9896772917.201857\n",
      "R-squared (R2 ): 0.12562927936413137\n"
     ]
    }
   ],
   "source": [
    "from sklearn.metrics import mean_squared_error, r2_score\n",
    "\n",
    "# Use our model to predict a value\n",
    "predicted = model.predict(X)\n",
    "\n",
    "# Score the prediction with mse and r2\n",
    "mse = mean_squared_error(y, predicted)\n",
    "r2 = r2_score(y, predicted)\n",
    "\n",
    "print(f\"Mean Squared Error (MSE): {mse}\")\n",
    "print(f\"R-squared (R2 ): {r2}\")"
   ]
  },
  {
   "cell_type": "code",
   "execution_count": 17,
   "id": "smart-matter",
   "metadata": {},
   "outputs": [],
   "source": [
    "# Use train_test_split to create training and testing data\n",
    "\n",
    "X_train, X_test, y_train, y_test = train_test_split(X, y, random_state=42)"
   ]
  },
  {
   "cell_type": "code",
   "execution_count": 18,
   "id": "introductory-deadline",
   "metadata": {},
   "outputs": [
    {
     "name": "stdout",
     "output_type": "stream",
     "text": [
      "Training Score: 0.15307121729365825\n",
      "Testing Score: -0.21908664648814513\n"
     ]
    }
   ],
   "source": [
    "# Fit the model to the data. \n",
    "\n",
    "# Fit the model to the training data and calculate the scores for the training and testing data\n",
    "\n",
    "model.fit(X_train, y_train)\n",
    "training_score = model.score(X_train, y_train)\n",
    "testing_score = model.score(X_test, y_test)\n",
    "\n",
    "print(f\"Training Score: {training_score}\")\n",
    "print(f\"Testing Score: {testing_score}\")"
   ]
  },
  {
   "cell_type": "code",
   "execution_count": 19,
   "id": "interpreted-lender",
   "metadata": {},
   "outputs": [
    {
     "name": "stdout",
     "output_type": "stream",
     "text": [
      "Min X Value: [[201607]]\n",
      "Max X Value: [[202104]]\n"
     ]
    }
   ],
   "source": [
    "# Note: we have to transform our min and max values \n",
    "# so they are in the format: array([[ 1.17]])\n",
    "# This is the required format for `model.predict()`\n",
    "\n",
    "x_min = np.array([[X.min()]])\n",
    "x_max = np.array([[X.max()]])\n",
    "print(f\"Min X Value: {x_min}\")\n",
    "print(f\"Max X Value: {x_max}\")"
   ]
  },
  {
   "cell_type": "code",
   "execution_count": 20,
   "id": "sapphire-container",
   "metadata": {},
   "outputs": [
    {
     "name": "stdout",
     "output_type": "stream",
     "text": [
      "[[1306407.6321453]]\n",
      "[[1445914.5267923]]\n"
     ]
    }
   ],
   "source": [
    "# Calculate the y_min and y_max using model.predict and x_min and x_max\n",
    "y_min = model.predict(x_min)\n",
    "y_max = model.predict(x_max)\n",
    "\n",
    "print(y_min)\n",
    "print(y_max)"
   ]
  },
  {
   "cell_type": "code",
   "execution_count": 21,
   "id": "described-length",
   "metadata": {},
   "outputs": [
    {
     "data": {
      "text/plain": [
       "[<matplotlib.lines.Line2D at 0x7f9476fe64e0>]"
      ]
     },
     "execution_count": 21,
     "metadata": {},
     "output_type": "execute_result"
    },
    {
     "data": {
      "image/png": "[encoded data removed]",
      "text/plain": [
       "<Figure size 432x288 with 1 Axes>"
      ]
     },
     "metadata": {
      "needs_background": "light"
     },
     "output_type": "display_data"
    }
   ],
   "source": [
    "# Plot X and y using plt.scatter\n",
    "# Plot the model fit line using [x_min[0], x_max[0]], [y_min[0], y_max[0]]\n",
    "plt.scatter(X,y)\n",
    "plt.plot([x_min[0], x_max[0]], [y_min[0], y_max[0]], c='red')"
   ]
  },
  {
   "cell_type": "code",
   "execution_count": 22,
   "id": "cellular-singer",
   "metadata": {},
   "outputs": [
    {
     "name": "stdout",
     "output_type": "stream",
     "text": [
      "Mean Squared Error (MSE): 10094146048.201733\n",
      "R-squared (R2 ): 0.10819154605143133\n"
     ]
    }
   ],
   "source": [
    "from sklearn.metrics import mean_squared_error, r2_score\n",
    "\n",
    "# Use our model to predict a value\n",
    "predicted = model.predict(X)\n",
    "\n",
    "# Score the prediction with mse and r2\n",
    "mse = mean_squared_error(y, predicted)\n",
    "r2 = r2_score(y, predicted)\n",
    "\n",
    "print(f\"Mean Squared Error (MSE): {mse}\")\n",
    "print(f\"R-squared (R2 ): {r2}\")"
   ]
  },
  {
   "cell_type": "code",
   "execution_count": 23,
   "id": "competent-semiconductor",
   "metadata": {},
   "outputs": [
    {
     "data": {
      "text/plain": [
       "0.10819154605143133"
      ]
     },
     "execution_count": 23,
     "metadata": {},
     "output_type": "execute_result"
    }
   ],
   "source": [
    "# Overall Score for the model\n",
    "model.score(X, y)"
   ]
  },
  {
   "cell_type": "code",
   "execution_count": 24,
   "id": "fixed-python",
   "metadata": {},
   "outputs": [],
   "source": [
    "X_train, X_test, y_train, y_test = train_test_split(X, y, random_state=42)"
   ]
  },
  {
   "cell_type": "code",
   "execution_count": 25,
   "id": "removed-ballet",
   "metadata": {},
   "outputs": [
    {
     "data": {
      "text/plain": [
       "LinearRegression()"
      ]
     },
     "execution_count": 25,
     "metadata": {},
     "output_type": "execute_result"
    }
   ],
   "source": [
    "# Train the model using the training data\n",
    "model.fit(X_train, y_train)"
   ]
  },
  {
   "cell_type": "code",
   "execution_count": 26,
   "id": "physical-salvation",
   "metadata": {},
   "outputs": [
    {
     "data": {
      "text/plain": [
       "-0.21908664648814513"
      ]
     },
     "execution_count": 26,
     "metadata": {},
     "output_type": "execute_result"
    }
   ],
   "source": [
    "# Score the model using the testing data\n",
    "model.score(X_test, y_test)"
   ]
  },
  {
   "cell_type": "code",
   "execution_count": 27,
   "id": "complimentary-consensus",
   "metadata": {},
   "outputs": [],
   "source": [
    "Xnew = [[202201], [202301], [202401], [202501], [203001], [204001], [205001], [206001], [207001]]\n",
    "ynew = model.predict(Xnew)"
   ]
  },
  {
   "cell_type": "code",
   "execution_count": 28,
   "id": "urban-wrong",
   "metadata": {},
   "outputs": [
    {
     "data": {
      "image/png": "[encoded data removed]",
      "text/plain": [
       "<Figure size 432x288 with 1 Axes>"
      ]
     },
     "metadata": {
      "needs_background": "light"
     },
     "output_type": "display_data"
    }
   ],
   "source": [
    "plt.scatter(Xnew,ynew)\n",
    "plt.xlabel(\"Year\")\n",
    "plt.ylabel(\"Projected Median Home Price ($)\")\n",
    "plt.title(\"Projected Home Prices in 28207\")\n",
    "plt.savefig(\"Images/Projected_Prices_28207.png\")"
   ]
  },
  {
   "cell_type": "code",
   "execution_count": null,
   "id": "vital-panama",
   "metadata": {},
   "outputs": [],
   "source": []
  }
 ],
 "metadata": {
  "kernelspec": {
   "display_name": "PythonData",
   "language": "python",
   "name": "pythondata"
  },
  "language_info": {
   "codemirror_mode": {
    "name": "ipython",
    "version": 3
   },
   "file_extension": ".py",
   "mimetype": "text/x-python",
   "name": "python",
   "nbconvert_exporter": "python",
   "pygments_lexer": "ipython3",
   "version": "3.6.10"
  }
 },
 "nbformat": 4,
 "nbformat_minor": 5
}
