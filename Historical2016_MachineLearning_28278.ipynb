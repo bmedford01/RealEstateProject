{
 "cells": [
  {
   "cell_type": "code",
   "execution_count": 1,
   "id": "partial-estonia",
   "metadata": {},
   "outputs": [],
   "source": [
    "import pandas as pd\n",
    "import os\n",
    "%matplotlib inline\n",
    "import matplotlib.pyplot as plt\n",
    "import numpy as np\n",
    "from sklearn.model_selection import train_test_split\n",
    "from sklearn.linear_model import LinearRegression"
   ]
  },
  {
   "cell_type": "code",
   "execution_count": 2,
   "id": "chinese-structure",
   "metadata": {},
   "outputs": [
    {
     "data": {
      "text/html": [
       "<div>\n",
       "<style scoped>\n",
       "    .dataframe tbody tr th:only-of-type {\n",
       "        vertical-align: middle;\n",
       "    }\n",
       "\n",
       "    .dataframe tbody tr th {\n",
       "        vertical-align: top;\n",
       "    }\n",
       "\n",
       "    .dataframe thead th {\n",
       "        text-align: right;\n",
       "    }\n",
       "</style>\n",
       "<table border=\"1\" class=\"dataframe\">\n",
       "  <thead>\n",
       "    <tr style=\"text-align: right;\">\n",
       "      <th></th>\n",
       "      <th>Year/Month</th>\n",
       "      <th>Date</th>\n",
       "      <th>Year</th>\n",
       "      <th>Month</th>\n",
       "      <th>Zip Code</th>\n",
       "      <th>City</th>\n",
       "      <th>State</th>\n",
       "      <th>Median Listing Price</th>\n",
       "      <th>Average Listing Price</th>\n",
       "      <th>Active Listing Count</th>\n",
       "      <th>Median Days on Market</th>\n",
       "      <th>New Listing Count</th>\n",
       "      <th>Price Increased Count</th>\n",
       "      <th>Price Reduced Count</th>\n",
       "      <th>Pending Listing Count</th>\n",
       "      <th>Median Price per Square Foot (List Price)</th>\n",
       "      <th>Median Square Feet</th>\n",
       "      <th>Total Listing Count</th>\n",
       "      <th>Pending Ratio</th>\n",
       "    </tr>\n",
       "  </thead>\n",
       "  <tbody>\n",
       "    <tr>\n",
       "      <th>0</th>\n",
       "      <td>202104</td>\n",
       "      <td>2021-04-01</td>\n",
       "      <td>2021</td>\n",
       "      <td>April</td>\n",
       "      <td>28213</td>\n",
       "      <td>charlotte</td>\n",
       "      <td>nc</td>\n",
       "      <td>280117.5</td>\n",
       "      <td>285710.02</td>\n",
       "      <td>16</td>\n",
       "      <td>11.0</td>\n",
       "      <td>36</td>\n",
       "      <td>0</td>\n",
       "      <td>0</td>\n",
       "      <td>28</td>\n",
       "      <td>138.05</td>\n",
       "      <td>2,109.0</td>\n",
       "      <td>44</td>\n",
       "      <td>1.750000</td>\n",
       "    </tr>\n",
       "    <tr>\n",
       "      <th>1</th>\n",
       "      <td>202104</td>\n",
       "      <td>2021-04-01</td>\n",
       "      <td>2021</td>\n",
       "      <td>April</td>\n",
       "      <td>28262</td>\n",
       "      <td>charlotte</td>\n",
       "      <td>nc</td>\n",
       "      <td>370700.0</td>\n",
       "      <td>337630.05</td>\n",
       "      <td>13</td>\n",
       "      <td>12.5</td>\n",
       "      <td>12</td>\n",
       "      <td>0</td>\n",
       "      <td>0</td>\n",
       "      <td>26</td>\n",
       "      <td>162.75</td>\n",
       "      <td>2,262.0</td>\n",
       "      <td>39</td>\n",
       "      <td>2.000000</td>\n",
       "    </tr>\n",
       "    <tr>\n",
       "      <th>2</th>\n",
       "      <td>202104</td>\n",
       "      <td>2021-04-01</td>\n",
       "      <td>2021</td>\n",
       "      <td>April</td>\n",
       "      <td>28207</td>\n",
       "      <td>charlotte</td>\n",
       "      <td>nc</td>\n",
       "      <td>1299250.0</td>\n",
       "      <td>1530404.68</td>\n",
       "      <td>52</td>\n",
       "      <td>90.5</td>\n",
       "      <td>20</td>\n",
       "      <td>0</td>\n",
       "      <td>12</td>\n",
       "      <td>45</td>\n",
       "      <td>447.01</td>\n",
       "      <td>2,740.5</td>\n",
       "      <td>97</td>\n",
       "      <td>0.865385</td>\n",
       "    </tr>\n",
       "    <tr>\n",
       "      <th>3</th>\n",
       "      <td>202104</td>\n",
       "      <td>2021-04-01</td>\n",
       "      <td>2021</td>\n",
       "      <td>April</td>\n",
       "      <td>28202</td>\n",
       "      <td>charlotte</td>\n",
       "      <td>nc</td>\n",
       "      <td>409950.0</td>\n",
       "      <td>559791.09</td>\n",
       "      <td>85</td>\n",
       "      <td>48.0</td>\n",
       "      <td>28</td>\n",
       "      <td>0</td>\n",
       "      <td>20</td>\n",
       "      <td>41</td>\n",
       "      <td>343.04</td>\n",
       "      <td>1,221.5</td>\n",
       "      <td>126</td>\n",
       "      <td>0.482353</td>\n",
       "    </tr>\n",
       "    <tr>\n",
       "      <th>4</th>\n",
       "      <td>202104</td>\n",
       "      <td>2021-04-01</td>\n",
       "      <td>2021</td>\n",
       "      <td>April</td>\n",
       "      <td>28226</td>\n",
       "      <td>charlotte</td>\n",
       "      <td>nc</td>\n",
       "      <td>630517.5</td>\n",
       "      <td>949039.63</td>\n",
       "      <td>52</td>\n",
       "      <td>38.5</td>\n",
       "      <td>48</td>\n",
       "      <td>4</td>\n",
       "      <td>16</td>\n",
       "      <td>78</td>\n",
       "      <td>231.56</td>\n",
       "      <td>2,870.0</td>\n",
       "      <td>130</td>\n",
       "      <td>1.500000</td>\n",
       "    </tr>\n",
       "  </tbody>\n",
       "</table>\n",
       "</div>"
      ],
      "text/plain": [
       "   Year/Month        Date  Year  Month  Zip Code       City State  \\\n",
       "0      202104  2021-04-01  2021  April     28213  charlotte    nc   \n",
       "1      202104  2021-04-01  2021  April     28262  charlotte    nc   \n",
       "2      202104  2021-04-01  2021  April     28207  charlotte    nc   \n",
       "3      202104  2021-04-01  2021  April     28202  charlotte    nc   \n",
       "4      202104  2021-04-01  2021  April     28226  charlotte    nc   \n",
       "\n",
       "   Median Listing Price  Average Listing Price  Active Listing Count  \\\n",
       "0              280117.5              285710.02                    16   \n",
       "1              370700.0              337630.05                    13   \n",
       "2             1299250.0             1530404.68                    52   \n",
       "3              409950.0              559791.09                    85   \n",
       "4              630517.5              949039.63                    52   \n",
       "\n",
       "   Median Days on Market  New Listing Count  Price Increased Count  \\\n",
       "0                   11.0                 36                      0   \n",
       "1                   12.5                 12                      0   \n",
       "2                   90.5                 20                      0   \n",
       "3                   48.0                 28                      0   \n",
       "4                   38.5                 48                      4   \n",
       "\n",
       "   Price Reduced Count  Pending Listing Count  \\\n",
       "0                    0                     28   \n",
       "1                    0                     26   \n",
       "2                   12                     45   \n",
       "3                   20                     41   \n",
       "4                   16                     78   \n",
       "\n",
       "   Median Price per Square Foot (List Price) Median Square Feet  \\\n",
       "0                                     138.05            2,109.0   \n",
       "1                                     162.75            2,262.0   \n",
       "2                                     447.01            2,740.5   \n",
       "3                                     343.04            1,221.5   \n",
       "4                                     231.56            2,870.0   \n",
       "\n",
       "   Total Listing Count  Pending Ratio  \n",
       "0                   44       1.750000  \n",
       "1                   39       2.000000  \n",
       "2                   97       0.865385  \n",
       "3                  126       0.482353  \n",
       "4                  130       1.500000  "
      ]
     },
     "execution_count": 2,
     "metadata": {},
     "output_type": "execute_result"
    }
   ],
   "source": [
    "# Read the csv file into a pandas DataFrame\n",
    "df = pd.read_csv('Cleaned_Data/historical_2016_cleaned.csv')\n",
    "df.head()"
   ]
  },
  {
   "cell_type": "code",
   "execution_count": 3,
   "id": "duplicate-paraguay",
   "metadata": {},
   "outputs": [
    {
     "data": {
      "text/html": [
       "<div>\n",
       "<style scoped>\n",
       "    .dataframe tbody tr th:only-of-type {\n",
       "        vertical-align: middle;\n",
       "    }\n",
       "\n",
       "    .dataframe tbody tr th {\n",
       "        vertical-align: top;\n",
       "    }\n",
       "\n",
       "    .dataframe thead th {\n",
       "        text-align: right;\n",
       "    }\n",
       "</style>\n",
       "<table border=\"1\" class=\"dataframe\">\n",
       "  <thead>\n",
       "    <tr style=\"text-align: right;\">\n",
       "      <th></th>\n",
       "      <th>Year/Month</th>\n",
       "      <th>Zip Code</th>\n",
       "      <th>Average Listing Price</th>\n",
       "    </tr>\n",
       "  </thead>\n",
       "  <tbody>\n",
       "    <tr>\n",
       "      <th>0</th>\n",
       "      <td>202104</td>\n",
       "      <td>28213</td>\n",
       "      <td>285710.02</td>\n",
       "    </tr>\n",
       "    <tr>\n",
       "      <th>1</th>\n",
       "      <td>202104</td>\n",
       "      <td>28262</td>\n",
       "      <td>337630.05</td>\n",
       "    </tr>\n",
       "    <tr>\n",
       "      <th>2</th>\n",
       "      <td>202104</td>\n",
       "      <td>28207</td>\n",
       "      <td>1530404.68</td>\n",
       "    </tr>\n",
       "    <tr>\n",
       "      <th>3</th>\n",
       "      <td>202104</td>\n",
       "      <td>28202</td>\n",
       "      <td>559791.09</td>\n",
       "    </tr>\n",
       "    <tr>\n",
       "      <th>4</th>\n",
       "      <td>202104</td>\n",
       "      <td>28226</td>\n",
       "      <td>949039.63</td>\n",
       "    </tr>\n",
       "  </tbody>\n",
       "</table>\n",
       "</div>"
      ],
      "text/plain": [
       "   Year/Month  Zip Code  Average Listing Price\n",
       "0      202104     28213              285710.02\n",
       "1      202104     28262              337630.05\n",
       "2      202104     28207             1530404.68\n",
       "3      202104     28202              559791.09\n",
       "4      202104     28226              949039.63"
      ]
     },
     "execution_count": 3,
     "metadata": {},
     "output_type": "execute_result"
    }
   ],
   "source": [
    "df = df[[\"Year/Month\", \"Zip Code\", \"Average Listing Price\"]]\n",
    "df.head()"
   ]
  },
  {
   "cell_type": "code",
   "execution_count": 4,
   "id": "discrete-noise",
   "metadata": {},
   "outputs": [],
   "source": [
    "# 28207, 28226, 28278, 28213"
   ]
  },
  {
   "cell_type": "code",
   "execution_count": 5,
   "id": "weird-berry",
   "metadata": {},
   "outputs": [],
   "source": [
    "# filter new dataframe to include only certain zipcode\n",
    "df_28207 = df.loc[df[\"Zip Code\"] == 28207]\n",
    "df_28226 = df.loc[df[\"Zip Code\"] == 28226]\n",
    "df_28278 = df.loc[df[\"Zip Code\"] == 28278]\n",
    "df_28213 = df.loc[df[\"Zip Code\"] == 28213]"
   ]
  },
  {
   "cell_type": "code",
   "execution_count": 6,
   "id": "motivated-booth",
   "metadata": {},
   "outputs": [
    {
     "data": {
      "text/html": [
       "<div>\n",
       "<style scoped>\n",
       "    .dataframe tbody tr th:only-of-type {\n",
       "        vertical-align: middle;\n",
       "    }\n",
       "\n",
       "    .dataframe tbody tr th {\n",
       "        vertical-align: top;\n",
       "    }\n",
       "\n",
       "    .dataframe thead th {\n",
       "        text-align: right;\n",
       "    }\n",
       "</style>\n",
       "<table border=\"1\" class=\"dataframe\">\n",
       "  <thead>\n",
       "    <tr style=\"text-align: right;\">\n",
       "      <th></th>\n",
       "      <th>Year/Month</th>\n",
       "      <th>Zip Code</th>\n",
       "      <th>Average Listing Price</th>\n",
       "    </tr>\n",
       "  </thead>\n",
       "  <tbody>\n",
       "    <tr>\n",
       "      <th>6</th>\n",
       "      <td>202104</td>\n",
       "      <td>28278</td>\n",
       "      <td>933585.46</td>\n",
       "    </tr>\n",
       "    <tr>\n",
       "      <th>33</th>\n",
       "      <td>202103</td>\n",
       "      <td>28278</td>\n",
       "      <td>917209.44</td>\n",
       "    </tr>\n",
       "    <tr>\n",
       "      <th>63</th>\n",
       "      <td>202102</td>\n",
       "      <td>28278</td>\n",
       "      <td>867873.12</td>\n",
       "    </tr>\n",
       "    <tr>\n",
       "      <th>68</th>\n",
       "      <td>202101</td>\n",
       "      <td>28278</td>\n",
       "      <td>723786.13</td>\n",
       "    </tr>\n",
       "    <tr>\n",
       "      <th>102</th>\n",
       "      <td>202012</td>\n",
       "      <td>28278</td>\n",
       "      <td>618371.14</td>\n",
       "    </tr>\n",
       "    <tr>\n",
       "      <th>124</th>\n",
       "      <td>202011</td>\n",
       "      <td>28278</td>\n",
       "      <td>607846.45</td>\n",
       "    </tr>\n",
       "    <tr>\n",
       "      <th>141</th>\n",
       "      <td>202010</td>\n",
       "      <td>28278</td>\n",
       "      <td>602891.84</td>\n",
       "    </tr>\n",
       "    <tr>\n",
       "      <th>159</th>\n",
       "      <td>202009</td>\n",
       "      <td>28278</td>\n",
       "      <td>558572.54</td>\n",
       "    </tr>\n",
       "    <tr>\n",
       "      <th>189</th>\n",
       "      <td>202008</td>\n",
       "      <td>28278</td>\n",
       "      <td>562721.73</td>\n",
       "    </tr>\n",
       "    <tr>\n",
       "      <th>217</th>\n",
       "      <td>202007</td>\n",
       "      <td>28278</td>\n",
       "      <td>583759.45</td>\n",
       "    </tr>\n",
       "    <tr>\n",
       "      <th>238</th>\n",
       "      <td>202006</td>\n",
       "      <td>28278</td>\n",
       "      <td>585009.19</td>\n",
       "    </tr>\n",
       "    <tr>\n",
       "      <th>250</th>\n",
       "      <td>202005</td>\n",
       "      <td>28278</td>\n",
       "      <td>538317.56</td>\n",
       "    </tr>\n",
       "    <tr>\n",
       "      <th>271</th>\n",
       "      <td>202004</td>\n",
       "      <td>28278</td>\n",
       "      <td>501815.77</td>\n",
       "    </tr>\n",
       "    <tr>\n",
       "      <th>301</th>\n",
       "      <td>202003</td>\n",
       "      <td>28278</td>\n",
       "      <td>577204.73</td>\n",
       "    </tr>\n",
       "    <tr>\n",
       "      <th>320</th>\n",
       "      <td>202002</td>\n",
       "      <td>28278</td>\n",
       "      <td>571239.18</td>\n",
       "    </tr>\n",
       "    <tr>\n",
       "      <th>356</th>\n",
       "      <td>202001</td>\n",
       "      <td>28278</td>\n",
       "      <td>586928.11</td>\n",
       "    </tr>\n",
       "    <tr>\n",
       "      <th>379</th>\n",
       "      <td>201912</td>\n",
       "      <td>28278</td>\n",
       "      <td>540167.85</td>\n",
       "    </tr>\n",
       "    <tr>\n",
       "      <th>401</th>\n",
       "      <td>201911</td>\n",
       "      <td>28278</td>\n",
       "      <td>538457.07</td>\n",
       "    </tr>\n",
       "    <tr>\n",
       "      <th>412</th>\n",
       "      <td>201910</td>\n",
       "      <td>28278</td>\n",
       "      <td>532468.21</td>\n",
       "    </tr>\n",
       "    <tr>\n",
       "      <th>446</th>\n",
       "      <td>201909</td>\n",
       "      <td>28278</td>\n",
       "      <td>524490.08</td>\n",
       "    </tr>\n",
       "    <tr>\n",
       "      <th>479</th>\n",
       "      <td>201908</td>\n",
       "      <td>28278</td>\n",
       "      <td>540405.36</td>\n",
       "    </tr>\n",
       "    <tr>\n",
       "      <th>496</th>\n",
       "      <td>201907</td>\n",
       "      <td>28278</td>\n",
       "      <td>558952.84</td>\n",
       "    </tr>\n",
       "    <tr>\n",
       "      <th>518</th>\n",
       "      <td>201906</td>\n",
       "      <td>28278</td>\n",
       "      <td>560559.98</td>\n",
       "    </tr>\n",
       "    <tr>\n",
       "      <th>543</th>\n",
       "      <td>201905</td>\n",
       "      <td>28278</td>\n",
       "      <td>533919.90</td>\n",
       "    </tr>\n",
       "    <tr>\n",
       "      <th>561</th>\n",
       "      <td>201904</td>\n",
       "      <td>28278</td>\n",
       "      <td>518519.07</td>\n",
       "    </tr>\n",
       "    <tr>\n",
       "      <th>583</th>\n",
       "      <td>201903</td>\n",
       "      <td>28278</td>\n",
       "      <td>526044.77</td>\n",
       "    </tr>\n",
       "    <tr>\n",
       "      <th>599</th>\n",
       "      <td>201902</td>\n",
       "      <td>28278</td>\n",
       "      <td>523408.70</td>\n",
       "    </tr>\n",
       "    <tr>\n",
       "      <th>634</th>\n",
       "      <td>201901</td>\n",
       "      <td>28278</td>\n",
       "      <td>537130.45</td>\n",
       "    </tr>\n",
       "    <tr>\n",
       "      <th>657</th>\n",
       "      <td>201812</td>\n",
       "      <td>28278</td>\n",
       "      <td>572240.58</td>\n",
       "    </tr>\n",
       "    <tr>\n",
       "      <th>672</th>\n",
       "      <td>201811</td>\n",
       "      <td>28278</td>\n",
       "      <td>581457.67</td>\n",
       "    </tr>\n",
       "    <tr>\n",
       "      <th>717</th>\n",
       "      <td>201810</td>\n",
       "      <td>28278</td>\n",
       "      <td>602544.31</td>\n",
       "    </tr>\n",
       "    <tr>\n",
       "      <th>726</th>\n",
       "      <td>201809</td>\n",
       "      <td>28278</td>\n",
       "      <td>618120.16</td>\n",
       "    </tr>\n",
       "    <tr>\n",
       "      <th>759</th>\n",
       "      <td>201808</td>\n",
       "      <td>28278</td>\n",
       "      <td>596120.22</td>\n",
       "    </tr>\n",
       "    <tr>\n",
       "      <th>787</th>\n",
       "      <td>201807</td>\n",
       "      <td>28278</td>\n",
       "      <td>614076.58</td>\n",
       "    </tr>\n",
       "    <tr>\n",
       "      <th>804</th>\n",
       "      <td>201806</td>\n",
       "      <td>28278</td>\n",
       "      <td>607041.71</td>\n",
       "    </tr>\n",
       "    <tr>\n",
       "      <th>834</th>\n",
       "      <td>201805</td>\n",
       "      <td>28278</td>\n",
       "      <td>576641.14</td>\n",
       "    </tr>\n",
       "    <tr>\n",
       "      <th>845</th>\n",
       "      <td>201804</td>\n",
       "      <td>28278</td>\n",
       "      <td>567644.65</td>\n",
       "    </tr>\n",
       "    <tr>\n",
       "      <th>876</th>\n",
       "      <td>201803</td>\n",
       "      <td>28278</td>\n",
       "      <td>539304.87</td>\n",
       "    </tr>\n",
       "    <tr>\n",
       "      <th>901</th>\n",
       "      <td>201802</td>\n",
       "      <td>28278</td>\n",
       "      <td>524375.18</td>\n",
       "    </tr>\n",
       "    <tr>\n",
       "      <th>915</th>\n",
       "      <td>201801</td>\n",
       "      <td>28278</td>\n",
       "      <td>516664.78</td>\n",
       "    </tr>\n",
       "    <tr>\n",
       "      <th>939</th>\n",
       "      <td>201712</td>\n",
       "      <td>28278</td>\n",
       "      <td>532021.49</td>\n",
       "    </tr>\n",
       "    <tr>\n",
       "      <th>959</th>\n",
       "      <td>201711</td>\n",
       "      <td>28278</td>\n",
       "      <td>521787.60</td>\n",
       "    </tr>\n",
       "    <tr>\n",
       "      <th>986</th>\n",
       "      <td>201710</td>\n",
       "      <td>28278</td>\n",
       "      <td>531839.25</td>\n",
       "    </tr>\n",
       "    <tr>\n",
       "      <th>1017</th>\n",
       "      <td>201709</td>\n",
       "      <td>28278</td>\n",
       "      <td>527053.63</td>\n",
       "    </tr>\n",
       "    <tr>\n",
       "      <th>1024</th>\n",
       "      <td>201708</td>\n",
       "      <td>28278</td>\n",
       "      <td>545823.55</td>\n",
       "    </tr>\n",
       "    <tr>\n",
       "      <th>1060</th>\n",
       "      <td>201707</td>\n",
       "      <td>28278</td>\n",
       "      <td>545543.26</td>\n",
       "    </tr>\n",
       "    <tr>\n",
       "      <th>1085</th>\n",
       "      <td>201706</td>\n",
       "      <td>28278</td>\n",
       "      <td>528485.94</td>\n",
       "    </tr>\n",
       "    <tr>\n",
       "      <th>1104</th>\n",
       "      <td>201705</td>\n",
       "      <td>28278</td>\n",
       "      <td>501909.49</td>\n",
       "    </tr>\n",
       "    <tr>\n",
       "      <th>1122</th>\n",
       "      <td>201704</td>\n",
       "      <td>28278</td>\n",
       "      <td>488684.11</td>\n",
       "    </tr>\n",
       "    <tr>\n",
       "      <th>1142</th>\n",
       "      <td>201703</td>\n",
       "      <td>28278</td>\n",
       "      <td>500626.44</td>\n",
       "    </tr>\n",
       "    <tr>\n",
       "      <th>1176</th>\n",
       "      <td>201702</td>\n",
       "      <td>28278</td>\n",
       "      <td>491266.74</td>\n",
       "    </tr>\n",
       "    <tr>\n",
       "      <th>1200</th>\n",
       "      <td>201701</td>\n",
       "      <td>28278</td>\n",
       "      <td>491631.89</td>\n",
       "    </tr>\n",
       "    <tr>\n",
       "      <th>1222</th>\n",
       "      <td>201612</td>\n",
       "      <td>28278</td>\n",
       "      <td>501181.62</td>\n",
       "    </tr>\n",
       "    <tr>\n",
       "      <th>1242</th>\n",
       "      <td>201611</td>\n",
       "      <td>28278</td>\n",
       "      <td>505823.36</td>\n",
       "    </tr>\n",
       "    <tr>\n",
       "      <th>1274</th>\n",
       "      <td>201610</td>\n",
       "      <td>28278</td>\n",
       "      <td>477967.59</td>\n",
       "    </tr>\n",
       "    <tr>\n",
       "      <th>1294</th>\n",
       "      <td>201609</td>\n",
       "      <td>28278</td>\n",
       "      <td>478895.43</td>\n",
       "    </tr>\n",
       "    <tr>\n",
       "      <th>1306</th>\n",
       "      <td>201608</td>\n",
       "      <td>28278</td>\n",
       "      <td>460877.25</td>\n",
       "    </tr>\n",
       "    <tr>\n",
       "      <th>1333</th>\n",
       "      <td>201607</td>\n",
       "      <td>28278</td>\n",
       "      <td>464808.00</td>\n",
       "    </tr>\n",
       "  </tbody>\n",
       "</table>\n",
       "</div>"
      ],
      "text/plain": [
       "      Year/Month  Zip Code  Average Listing Price\n",
       "6         202104     28278              933585.46\n",
       "33        202103     28278              917209.44\n",
       "63        202102     28278              867873.12\n",
       "68        202101     28278              723786.13\n",
       "102       202012     28278              618371.14\n",
       "124       202011     28278              607846.45\n",
       "141       202010     28278              602891.84\n",
       "159       202009     28278              558572.54\n",
       "189       202008     28278              562721.73\n",
       "217       202007     28278              583759.45\n",
       "238       202006     28278              585009.19\n",
       "250       202005     28278              538317.56\n",
       "271       202004     28278              501815.77\n",
       "301       202003     28278              577204.73\n",
       "320       202002     28278              571239.18\n",
       "356       202001     28278              586928.11\n",
       "379       201912     28278              540167.85\n",
       "401       201911     28278              538457.07\n",
       "412       201910     28278              532468.21\n",
       "446       201909     28278              524490.08\n",
       "479       201908     28278              540405.36\n",
       "496       201907     28278              558952.84\n",
       "518       201906     28278              560559.98\n",
       "543       201905     28278              533919.90\n",
       "561       201904     28278              518519.07\n",
       "583       201903     28278              526044.77\n",
       "599       201902     28278              523408.70\n",
       "634       201901     28278              537130.45\n",
       "657       201812     28278              572240.58\n",
       "672       201811     28278              581457.67\n",
       "717       201810     28278              602544.31\n",
       "726       201809     28278              618120.16\n",
       "759       201808     28278              596120.22\n",
       "787       201807     28278              614076.58\n",
       "804       201806     28278              607041.71\n",
       "834       201805     28278              576641.14\n",
       "845       201804     28278              567644.65\n",
       "876       201803     28278              539304.87\n",
       "901       201802     28278              524375.18\n",
       "915       201801     28278              516664.78\n",
       "939       201712     28278              532021.49\n",
       "959       201711     28278              521787.60\n",
       "986       201710     28278              531839.25\n",
       "1017      201709     28278              527053.63\n",
       "1024      201708     28278              545823.55\n",
       "1060      201707     28278              545543.26\n",
       "1085      201706     28278              528485.94\n",
       "1104      201705     28278              501909.49\n",
       "1122      201704     28278              488684.11\n",
       "1142      201703     28278              500626.44\n",
       "1176      201702     28278              491266.74\n",
       "1200      201701     28278              491631.89\n",
       "1222      201612     28278              501181.62\n",
       "1242      201611     28278              505823.36\n",
       "1274      201610     28278              477967.59\n",
       "1294      201609     28278              478895.43\n",
       "1306      201608     28278              460877.25\n",
       "1333      201607     28278              464808.00"
      ]
     },
     "execution_count": 6,
     "metadata": {},
     "output_type": "execute_result"
    }
   ],
   "source": [
    "df_28278"
   ]
  },
  {
   "cell_type": "code",
   "execution_count": 7,
   "id": "honest-dispute",
   "metadata": {},
   "outputs": [
    {
     "data": {
      "text/plain": [
       "Year/Month                 int64\n",
       "Zip Code                   int64\n",
       "Average Listing Price    float64\n",
       "dtype: object"
      ]
     },
     "execution_count": 7,
     "metadata": {},
     "output_type": "execute_result"
    }
   ],
   "source": [
    "df_28278.dtypes"
   ]
  },
  {
   "cell_type": "code",
   "execution_count": 8,
   "id": "turkish-payroll",
   "metadata": {},
   "outputs": [
    {
     "name": "stdout",
     "output_type": "stream",
     "text": [
      "Shape:  (58, 1) (58, 1)\n"
     ]
    },
    {
     "data": {
      "text/plain": [
       "array([[202104],\n",
       "       [202103],\n",
       "       [202102],\n",
       "       [202101],\n",
       "       [202012],\n",
       "       [202011],\n",
       "       [202010],\n",
       "       [202009],\n",
       "       [202008],\n",
       "       [202007],\n",
       "       [202006],\n",
       "       [202005],\n",
       "       [202004],\n",
       "       [202003],\n",
       "       [202002],\n",
       "       [202001],\n",
       "       [201912],\n",
       "       [201911],\n",
       "       [201910],\n",
       "       [201909],\n",
       "       [201908],\n",
       "       [201907],\n",
       "       [201906],\n",
       "       [201905],\n",
       "       [201904],\n",
       "       [201903],\n",
       "       [201902],\n",
       "       [201901],\n",
       "       [201812],\n",
       "       [201811],\n",
       "       [201810],\n",
       "       [201809],\n",
       "       [201808],\n",
       "       [201807],\n",
       "       [201806],\n",
       "       [201805],\n",
       "       [201804],\n",
       "       [201803],\n",
       "       [201802],\n",
       "       [201801],\n",
       "       [201712],\n",
       "       [201711],\n",
       "       [201710],\n",
       "       [201709],\n",
       "       [201708],\n",
       "       [201707],\n",
       "       [201706],\n",
       "       [201705],\n",
       "       [201704],\n",
       "       [201703],\n",
       "       [201702],\n",
       "       [201701],\n",
       "       [201612],\n",
       "       [201611],\n",
       "       [201610],\n",
       "       [201609],\n",
       "       [201608],\n",
       "       [201607]])"
      ]
     },
     "execution_count": 8,
     "metadata": {},
     "output_type": "execute_result"
    }
   ],
   "source": [
    "# Assign the data to X and y\n",
    "X = df_28278[\"Year/Month\"].values.reshape(-1, 1)\n",
    "y = df_28278[\"Average Listing Price\"].values.reshape(-1, 1)\n",
    "\n",
    "print(\"Shape: \", X.shape, y.shape)\n",
    "X"
   ]
  },
  {
   "cell_type": "code",
   "execution_count": 9,
   "id": "split-springfield",
   "metadata": {},
   "outputs": [
    {
     "data": {
      "text/plain": [
       "<matplotlib.collections.PathCollection at 0x7fe19fd6fe10>"
      ]
     },
     "execution_count": 9,
     "metadata": {},
     "output_type": "execute_result"
    },
    {
     "data": {
      "image/png": "[encoded data removed]",
      "text/plain": [
       "<Figure size 432x288 with 1 Axes>"
      ]
     },
     "metadata": {
      "needs_background": "light"
     },
     "output_type": "display_data"
    }
   ],
   "source": [
    "# Plot the data\n",
    "\n",
    "plt.scatter(X, y)"
   ]
  },
  {
   "cell_type": "code",
   "execution_count": 10,
   "id": "gorgeous-investment",
   "metadata": {},
   "outputs": [
    {
     "data": {
      "text/plain": [
       "LinearRegression()"
      ]
     },
     "execution_count": 10,
     "metadata": {},
     "output_type": "execute_result"
    }
   ],
   "source": [
    "# Create the model and fit the model to the data\n",
    "\n",
    "model = LinearRegression()\n",
    "model"
   ]
  },
  {
   "cell_type": "code",
   "execution_count": 11,
   "id": "rising-fossil",
   "metadata": {},
   "outputs": [
    {
     "data": {
      "text/plain": [
       "LinearRegression()"
      ]
     },
     "execution_count": 11,
     "metadata": {},
     "output_type": "execute_result"
    }
   ],
   "source": [
    "# Fit the model to the data. \n",
    "\n",
    "model.fit(X,y)"
   ]
  },
  {
   "cell_type": "code",
   "execution_count": 12,
   "id": "color-maple",
   "metadata": {},
   "outputs": [
    {
     "name": "stdout",
     "output_type": "stream",
     "text": [
      "Min X Value: [[201607]]\n",
      "Max X Value: [[202104]]\n"
     ]
    }
   ],
   "source": [
    "x_min = np.array([[X.min()]])\n",
    "x_max = np.array([[X.max()]])\n",
    "print(f\"Min X Value: {x_min}\")\n",
    "print(f\"Max X Value: {x_max}\")"
   ]
  },
  {
   "cell_type": "code",
   "execution_count": 13,
   "id": "proved-syndrome",
   "metadata": {},
   "outputs": [
    {
     "data": {
      "text/plain": [
       "array([[202104],\n",
       "       [202103],\n",
       "       [202102],\n",
       "       [202101],\n",
       "       [202012],\n",
       "       [202011],\n",
       "       [202010],\n",
       "       [202009],\n",
       "       [202008],\n",
       "       [202007],\n",
       "       [202006],\n",
       "       [202005],\n",
       "       [202004],\n",
       "       [202003],\n",
       "       [202002],\n",
       "       [202001],\n",
       "       [201912],\n",
       "       [201911],\n",
       "       [201910],\n",
       "       [201909],\n",
       "       [201908],\n",
       "       [201907],\n",
       "       [201906],\n",
       "       [201905],\n",
       "       [201904],\n",
       "       [201903],\n",
       "       [201902],\n",
       "       [201901],\n",
       "       [201812],\n",
       "       [201811],\n",
       "       [201810],\n",
       "       [201809],\n",
       "       [201808],\n",
       "       [201807],\n",
       "       [201806],\n",
       "       [201805],\n",
       "       [201804],\n",
       "       [201803],\n",
       "       [201802],\n",
       "       [201801],\n",
       "       [201712],\n",
       "       [201711],\n",
       "       [201710],\n",
       "       [201709],\n",
       "       [201708],\n",
       "       [201707],\n",
       "       [201706],\n",
       "       [201705],\n",
       "       [201704],\n",
       "       [201703],\n",
       "       [201702],\n",
       "       [201701],\n",
       "       [201612],\n",
       "       [201611],\n",
       "       [201610],\n",
       "       [201609],\n",
       "       [201608],\n",
       "       [201607]])"
      ]
     },
     "execution_count": 13,
     "metadata": {},
     "output_type": "execute_result"
    }
   ],
   "source": [
    "X"
   ]
  },
  {
   "cell_type": "code",
   "execution_count": 14,
   "id": "undefined-nation",
   "metadata": {},
   "outputs": [
    {
     "name": "stdout",
     "output_type": "stream",
     "text": [
      "[[465923.27023496]]\n",
      "[[670818.4805246]]\n"
     ]
    }
   ],
   "source": [
    "# Calculate the y_min and y_max using model.predict and x_min and x_max\n",
    "y_min = model.predict(x_min)\n",
    "y_max = model.predict(x_max)\n",
    "\n",
    "print(y_min)\n",
    "print(y_max)"
   ]
  },
  {
   "cell_type": "code",
   "execution_count": 15,
   "id": "regional-bridges",
   "metadata": {},
   "outputs": [
    {
     "data": {
      "text/plain": [
       "[<matplotlib.lines.Line2D at 0x7fe1a2790e48>]"
      ]
     },
     "execution_count": 15,
     "metadata": {},
     "output_type": "execute_result"
    },
    {
     "data": {
      "image/png": "[encoded data removed]",
      "text/plain": [
       "<Figure size 432x288 with 1 Axes>"
      ]
     },
     "metadata": {
      "needs_background": "light"
     },
     "output_type": "display_data"
    }
   ],
   "source": [
    "# Plot X and y using plt.scatter\n",
    "# Plot the model fit line using [x_min[0], x_max[0]], [y_min[0], y_max[0]]\n",
    "plt.scatter(X,y)\n",
    "plt.plot([x_min[0], x_max[0]], [y_min[0], y_max[0]], c='red')"
   ]
  },
  {
   "cell_type": "code",
   "execution_count": 16,
   "id": "leading-nickel",
   "metadata": {},
   "outputs": [
    {
     "name": "stdout",
     "output_type": "stream",
     "text": [
      "Mean Squared Error (MSE): 4940315208.980837\n",
      "R-squared (R2 ): 0.4167115243387398\n"
     ]
    }
   ],
   "source": [
    "from sklearn.metrics import mean_squared_error, r2_score\n",
    "\n",
    "# Use our model to predict a value\n",
    "predicted = model.predict(X)\n",
    "\n",
    "# Score the prediction with mse and r2\n",
    "mse = mean_squared_error(y, predicted)\n",
    "r2 = r2_score(y, predicted)\n",
    "\n",
    "print(f\"Mean Squared Error (MSE): {mse}\")\n",
    "print(f\"R-squared (R2 ): {r2}\")"
   ]
  },
  {
   "cell_type": "code",
   "execution_count": 17,
   "id": "smart-matter",
   "metadata": {},
   "outputs": [],
   "source": [
    "# Use train_test_split to create training and testing data\n",
    "\n",
    "X_train, X_test, y_train, y_test = train_test_split(X, y, random_state=42)"
   ]
  },
  {
   "cell_type": "code",
   "execution_count": 18,
   "id": "introductory-deadline",
   "metadata": {},
   "outputs": [
    {
     "name": "stdout",
     "output_type": "stream",
     "text": [
      "Training Score: 0.4290259426864118\n",
      "Testing Score: 0.3489602433654566\n"
     ]
    }
   ],
   "source": [
    "# Fit the model to the data. \n",
    "\n",
    "# Fit the model to the training data and calculate the scores for the training and testing data\n",
    "\n",
    "model.fit(X_train, y_train)\n",
    "training_score = model.score(X_train, y_train)\n",
    "testing_score = model.score(X_test, y_test)\n",
    "\n",
    "print(f\"Training Score: {training_score}\")\n",
    "print(f\"Testing Score: {testing_score}\")"
   ]
  },
  {
   "cell_type": "code",
   "execution_count": 19,
   "id": "interpreted-lender",
   "metadata": {},
   "outputs": [
    {
     "name": "stdout",
     "output_type": "stream",
     "text": [
      "Min X Value: [[201607]]\n",
      "Max X Value: [[202104]]\n"
     ]
    }
   ],
   "source": [
    "# Note: we have to transform our min and max values \n",
    "# so they are in the format: array([[ 1.17]])\n",
    "# This is the required format for `model.predict()`\n",
    "\n",
    "x_min = np.array([[X.min()]])\n",
    "x_max = np.array([[X.max()]])\n",
    "print(f\"Min X Value: {x_min}\")\n",
    "print(f\"Max X Value: {x_max}\")"
   ]
  },
  {
   "cell_type": "code",
   "execution_count": 20,
   "id": "sapphire-container",
   "metadata": {},
   "outputs": [
    {
     "name": "stdout",
     "output_type": "stream",
     "text": [
      "[[465909.89561258]]\n",
      "[[660924.57055089]]\n"
     ]
    }
   ],
   "source": [
    "# Calculate the y_min and y_max using model.predict and x_min and x_max\n",
    "y_min = model.predict(x_min)\n",
    "y_max = model.predict(x_max)\n",
    "\n",
    "print(y_min)\n",
    "print(y_max)"
   ]
  },
  {
   "cell_type": "code",
   "execution_count": 21,
   "id": "described-length",
   "metadata": {},
   "outputs": [
    {
     "data": {
      "text/plain": [
       "[<matplotlib.lines.Line2D at 0x7fe1a280bc50>]"
      ]
     },
     "execution_count": 21,
     "metadata": {},
     "output_type": "execute_result"
    },
    {
     "data": {
      "image/png": "[encoded data removed]",
      "text/plain": [
       "<Figure size 432x288 with 1 Axes>"
      ]
     },
     "metadata": {
      "needs_background": "light"
     },
     "output_type": "display_data"
    }
   ],
   "source": [
    "# Plot X and y using plt.scatter\n",
    "# Plot the model fit line using [x_min[0], x_max[0]], [y_min[0], y_max[0]]\n",
    "plt.scatter(X,y)\n",
    "plt.plot([x_min[0], x_max[0]], [y_min[0], y_max[0]], c='red')"
   ]
  },
  {
   "cell_type": "code",
   "execution_count": 22,
   "id": "cellular-singer",
   "metadata": {},
   "outputs": [
    {
     "name": "stdout",
     "output_type": "stream",
     "text": [
      "Mean Squared Error (MSE): 4971589716.850539\n",
      "R-squared (R2 ): 0.41301903524630024\n"
     ]
    }
   ],
   "source": [
    "from sklearn.metrics import mean_squared_error, r2_score\n",
    "\n",
    "# Use our model to predict a value\n",
    "predicted = model.predict(X)\n",
    "\n",
    "# Score the prediction with mse and r2\n",
    "mse = mean_squared_error(y, predicted)\n",
    "r2 = r2_score(y, predicted)\n",
    "\n",
    "print(f\"Mean Squared Error (MSE): {mse}\")\n",
    "print(f\"R-squared (R2 ): {r2}\")"
   ]
  },
  {
   "cell_type": "code",
   "execution_count": 23,
   "id": "competent-semiconductor",
   "metadata": {},
   "outputs": [
    {
     "data": {
      "text/plain": [
       "0.41301903524630024"
      ]
     },
     "execution_count": 23,
     "metadata": {},
     "output_type": "execute_result"
    }
   ],
   "source": [
    "# Overall Score for the model\n",
    "model.score(X, y)"
   ]
  },
  {
   "cell_type": "code",
   "execution_count": 24,
   "id": "fixed-python",
   "metadata": {},
   "outputs": [],
   "source": [
    "X_train, X_test, y_train, y_test = train_test_split(X, y, random_state=42)"
   ]
  },
  {
   "cell_type": "code",
   "execution_count": 25,
   "id": "removed-ballet",
   "metadata": {},
   "outputs": [
    {
     "data": {
      "text/plain": [
       "LinearRegression()"
      ]
     },
     "execution_count": 25,
     "metadata": {},
     "output_type": "execute_result"
    }
   ],
   "source": [
    "# Train the model using the training data\n",
    "model.fit(X_train, y_train)"
   ]
  },
  {
   "cell_type": "code",
   "execution_count": 26,
   "id": "physical-salvation",
   "metadata": {},
   "outputs": [
    {
     "data": {
      "text/plain": [
       "0.3489602433654566"
      ]
     },
     "execution_count": 26,
     "metadata": {},
     "output_type": "execute_result"
    }
   ],
   "source": [
    "# Score the model using the testing data\n",
    "model.score(X_test, y_test)"
   ]
  },
  {
   "cell_type": "code",
   "execution_count": 29,
   "id": "complimentary-consensus",
   "metadata": {},
   "outputs": [],
   "source": [
    "Xnew = [[202201], [202301], [202401], [202501], [203001], [204001], [205001], [206001], [207001]]\n",
    "ynew = model.predict(Xnew)"
   ]
  },
  {
   "cell_type": "code",
   "execution_count": 33,
   "id": "urban-wrong",
   "metadata": {},
   "outputs": [
    {
     "data": {
      "image/png": "[encoded data removed]",
      "text/plain": [
       "<Figure size 432x288 with 1 Axes>"
      ]
     },
     "metadata": {
      "needs_background": "light"
     },
     "output_type": "display_data"
    }
   ],
   "source": [
    "plt.scatter(Xnew,ynew)\n",
    "plt.xlabel(\"Year\")\n",
    "plt.ylabel(\"Projected Median Home Price ($)\")\n",
    "plt.title(\"Projected Home Prices in 28278\")\n",
    "plt.savefig(\"Images/Projected_Prices_28278.png\")"
   ]
  },
  {
   "cell_type": "code",
   "execution_count": null,
   "id": "vital-panama",
   "metadata": {},
   "outputs": [],
   "source": []
  }
 ],
 "metadata": {
  "kernelspec": {
   "display_name": "PythonData",
   "language": "python",
   "name": "pythondata"
  },
  "language_info": {
   "codemirror_mode": {
    "name": "ipython",
    "version": 3
   },
   "file_extension": ".py",
   "mimetype": "text/x-python",
   "name": "python",
   "nbconvert_exporter": "python",
   "pygments_lexer": "ipython3",
   "version": "3.6.10"
  }
 },
 "nbformat": 4,
 "nbformat_minor": 5
}
