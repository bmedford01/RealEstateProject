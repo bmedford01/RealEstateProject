{
 "cells": [
  {
   "cell_type": "code",
   "execution_count": 1,
   "id": "partial-estonia",
   "metadata": {},
   "outputs": [],
   "source": [
    "import pandas as pd\n",
    "import os\n",
    "%matplotlib inline\n",
    "import matplotlib.pyplot as plt\n",
    "import numpy as np\n",
    "from sklearn.model_selection import train_test_split\n",
    "from sklearn.linear_model import LinearRegression"
   ]
  },
  {
   "cell_type": "code",
   "execution_count": 2,
   "id": "chinese-structure",
   "metadata": {},
   "outputs": [
    {
     "data": {
      "text/html": [
       "<div>\n",
       "<style scoped>\n",
       "    .dataframe tbody tr th:only-of-type {\n",
       "        vertical-align: middle;\n",
       "    }\n",
       "\n",
       "    .dataframe tbody tr th {\n",
       "        vertical-align: top;\n",
       "    }\n",
       "\n",
       "    .dataframe thead th {\n",
       "        text-align: right;\n",
       "    }\n",
       "</style>\n",
       "<table border=\"1\" class=\"dataframe\">\n",
       "  <thead>\n",
       "    <tr style=\"text-align: right;\">\n",
       "      <th></th>\n",
       "      <th>Year/Month</th>\n",
       "      <th>Date</th>\n",
       "      <th>Year</th>\n",
       "      <th>Month</th>\n",
       "      <th>Zip Code</th>\n",
       "      <th>City</th>\n",
       "      <th>State</th>\n",
       "      <th>Median Listing Price</th>\n",
       "      <th>Average Listing Price</th>\n",
       "      <th>Active Listing Count</th>\n",
       "      <th>Median Days on Market</th>\n",
       "      <th>New Listing Count</th>\n",
       "      <th>Price Increased Count</th>\n",
       "      <th>Price Reduced Count</th>\n",
       "      <th>Pending Listing Count</th>\n",
       "      <th>Median Price per Square Foot (List Price)</th>\n",
       "      <th>Median Square Feet</th>\n",
       "      <th>Total Listing Count</th>\n",
       "      <th>Pending Ratio</th>\n",
       "    </tr>\n",
       "  </thead>\n",
       "  <tbody>\n",
       "    <tr>\n",
       "      <th>0</th>\n",
       "      <td>202104</td>\n",
       "      <td>2021-04-01</td>\n",
       "      <td>2021</td>\n",
       "      <td>April</td>\n",
       "      <td>28213</td>\n",
       "      <td>charlotte</td>\n",
       "      <td>nc</td>\n",
       "      <td>280117.5</td>\n",
       "      <td>285710.02</td>\n",
       "      <td>16</td>\n",
       "      <td>11.0</td>\n",
       "      <td>36</td>\n",
       "      <td>0</td>\n",
       "      <td>0</td>\n",
       "      <td>28</td>\n",
       "      <td>138.05</td>\n",
       "      <td>2,109.0</td>\n",
       "      <td>44</td>\n",
       "      <td>1.750000</td>\n",
       "    </tr>\n",
       "    <tr>\n",
       "      <th>1</th>\n",
       "      <td>202104</td>\n",
       "      <td>2021-04-01</td>\n",
       "      <td>2021</td>\n",
       "      <td>April</td>\n",
       "      <td>28262</td>\n",
       "      <td>charlotte</td>\n",
       "      <td>nc</td>\n",
       "      <td>370700.0</td>\n",
       "      <td>337630.05</td>\n",
       "      <td>13</td>\n",
       "      <td>12.5</td>\n",
       "      <td>12</td>\n",
       "      <td>0</td>\n",
       "      <td>0</td>\n",
       "      <td>26</td>\n",
       "      <td>162.75</td>\n",
       "      <td>2,262.0</td>\n",
       "      <td>39</td>\n",
       "      <td>2.000000</td>\n",
       "    </tr>\n",
       "    <tr>\n",
       "      <th>2</th>\n",
       "      <td>202104</td>\n",
       "      <td>2021-04-01</td>\n",
       "      <td>2021</td>\n",
       "      <td>April</td>\n",
       "      <td>28207</td>\n",
       "      <td>charlotte</td>\n",
       "      <td>nc</td>\n",
       "      <td>1299250.0</td>\n",
       "      <td>1530404.68</td>\n",
       "      <td>52</td>\n",
       "      <td>90.5</td>\n",
       "      <td>20</td>\n",
       "      <td>0</td>\n",
       "      <td>12</td>\n",
       "      <td>45</td>\n",
       "      <td>447.01</td>\n",
       "      <td>2,740.5</td>\n",
       "      <td>97</td>\n",
       "      <td>0.865385</td>\n",
       "    </tr>\n",
       "    <tr>\n",
       "      <th>3</th>\n",
       "      <td>202104</td>\n",
       "      <td>2021-04-01</td>\n",
       "      <td>2021</td>\n",
       "      <td>April</td>\n",
       "      <td>28202</td>\n",
       "      <td>charlotte</td>\n",
       "      <td>nc</td>\n",
       "      <td>409950.0</td>\n",
       "      <td>559791.09</td>\n",
       "      <td>85</td>\n",
       "      <td>48.0</td>\n",
       "      <td>28</td>\n",
       "      <td>0</td>\n",
       "      <td>20</td>\n",
       "      <td>41</td>\n",
       "      <td>343.04</td>\n",
       "      <td>1,221.5</td>\n",
       "      <td>126</td>\n",
       "      <td>0.482353</td>\n",
       "    </tr>\n",
       "    <tr>\n",
       "      <th>4</th>\n",
       "      <td>202104</td>\n",
       "      <td>2021-04-01</td>\n",
       "      <td>2021</td>\n",
       "      <td>April</td>\n",
       "      <td>28226</td>\n",
       "      <td>charlotte</td>\n",
       "      <td>nc</td>\n",
       "      <td>630517.5</td>\n",
       "      <td>949039.63</td>\n",
       "      <td>52</td>\n",
       "      <td>38.5</td>\n",
       "      <td>48</td>\n",
       "      <td>4</td>\n",
       "      <td>16</td>\n",
       "      <td>78</td>\n",
       "      <td>231.56</td>\n",
       "      <td>2,870.0</td>\n",
       "      <td>130</td>\n",
       "      <td>1.500000</td>\n",
       "    </tr>\n",
       "  </tbody>\n",
       "</table>\n",
       "</div>"
      ],
      "text/plain": [
       "   Year/Month        Date  Year  Month  Zip Code       City State  \\\n",
       "0      202104  2021-04-01  2021  April     28213  charlotte    nc   \n",
       "1      202104  2021-04-01  2021  April     28262  charlotte    nc   \n",
       "2      202104  2021-04-01  2021  April     28207  charlotte    nc   \n",
       "3      202104  2021-04-01  2021  April     28202  charlotte    nc   \n",
       "4      202104  2021-04-01  2021  April     28226  charlotte    nc   \n",
       "\n",
       "   Median Listing Price  Average Listing Price  Active Listing Count  \\\n",
       "0              280117.5              285710.02                    16   \n",
       "1              370700.0              337630.05                    13   \n",
       "2             1299250.0             1530404.68                    52   \n",
       "3              409950.0              559791.09                    85   \n",
       "4              630517.5              949039.63                    52   \n",
       "\n",
       "   Median Days on Market  New Listing Count  Price Increased Count  \\\n",
       "0                   11.0                 36                      0   \n",
       "1                   12.5                 12                      0   \n",
       "2                   90.5                 20                      0   \n",
       "3                   48.0                 28                      0   \n",
       "4                   38.5                 48                      4   \n",
       "\n",
       "   Price Reduced Count  Pending Listing Count  \\\n",
       "0                    0                     28   \n",
       "1                    0                     26   \n",
       "2                   12                     45   \n",
       "3                   20                     41   \n",
       "4                   16                     78   \n",
       "\n",
       "   Median Price per Square Foot (List Price) Median Square Feet  \\\n",
       "0                                     138.05            2,109.0   \n",
       "1                                     162.75            2,262.0   \n",
       "2                                     447.01            2,740.5   \n",
       "3                                     343.04            1,221.5   \n",
       "4                                     231.56            2,870.0   \n",
       "\n",
       "   Total Listing Count  Pending Ratio  \n",
       "0                   44       1.750000  \n",
       "1                   39       2.000000  \n",
       "2                   97       0.865385  \n",
       "3                  126       0.482353  \n",
       "4                  130       1.500000  "
      ]
     },
     "execution_count": 2,
     "metadata": {},
     "output_type": "execute_result"
    }
   ],
   "source": [
    "# Read the csv file into a pandas DataFrame\n",
    "df = pd.read_csv('Cleaned_Data/historical_2016_cleaned.csv')\n",
    "df.head()"
   ]
  },
  {
   "cell_type": "code",
   "execution_count": 3,
   "id": "duplicate-paraguay",
   "metadata": {},
   "outputs": [
    {
     "data": {
      "text/html": [
       "<div>\n",
       "<style scoped>\n",
       "    .dataframe tbody tr th:only-of-type {\n",
       "        vertical-align: middle;\n",
       "    }\n",
       "\n",
       "    .dataframe tbody tr th {\n",
       "        vertical-align: top;\n",
       "    }\n",
       "\n",
       "    .dataframe thead th {\n",
       "        text-align: right;\n",
       "    }\n",
       "</style>\n",
       "<table border=\"1\" class=\"dataframe\">\n",
       "  <thead>\n",
       "    <tr style=\"text-align: right;\">\n",
       "      <th></th>\n",
       "      <th>Year/Month</th>\n",
       "      <th>Zip Code</th>\n",
       "      <th>Average Listing Price</th>\n",
       "    </tr>\n",
       "  </thead>\n",
       "  <tbody>\n",
       "    <tr>\n",
       "      <th>0</th>\n",
       "      <td>202104</td>\n",
       "      <td>28213</td>\n",
       "      <td>285710.02</td>\n",
       "    </tr>\n",
       "    <tr>\n",
       "      <th>1</th>\n",
       "      <td>202104</td>\n",
       "      <td>28262</td>\n",
       "      <td>337630.05</td>\n",
       "    </tr>\n",
       "    <tr>\n",
       "      <th>2</th>\n",
       "      <td>202104</td>\n",
       "      <td>28207</td>\n",
       "      <td>1530404.68</td>\n",
       "    </tr>\n",
       "    <tr>\n",
       "      <th>3</th>\n",
       "      <td>202104</td>\n",
       "      <td>28202</td>\n",
       "      <td>559791.09</td>\n",
       "    </tr>\n",
       "    <tr>\n",
       "      <th>4</th>\n",
       "      <td>202104</td>\n",
       "      <td>28226</td>\n",
       "      <td>949039.63</td>\n",
       "    </tr>\n",
       "  </tbody>\n",
       "</table>\n",
       "</div>"
      ],
      "text/plain": [
       "   Year/Month  Zip Code  Average Listing Price\n",
       "0      202104     28213              285710.02\n",
       "1      202104     28262              337630.05\n",
       "2      202104     28207             1530404.68\n",
       "3      202104     28202              559791.09\n",
       "4      202104     28226              949039.63"
      ]
     },
     "execution_count": 3,
     "metadata": {},
     "output_type": "execute_result"
    }
   ],
   "source": [
    "df = df[[\"Year/Month\", \"Zip Code\", \"Average Listing Price\"]]\n",
    "df.head()"
   ]
  },
  {
   "cell_type": "code",
   "execution_count": 4,
   "id": "discrete-noise",
   "metadata": {},
   "outputs": [],
   "source": [
    "# 28207, 28226, 28278, 28213"
   ]
  },
  {
   "cell_type": "code",
   "execution_count": 5,
   "id": "weird-berry",
   "metadata": {},
   "outputs": [],
   "source": [
    "# filter new dataframe to include only certain zipcode\n",
    "df_28207 = df.loc[df[\"Zip Code\"] == 28207]\n",
    "df_28226 = df.loc[df[\"Zip Code\"] == 28226]\n",
    "df_28278 = df.loc[df[\"Zip Code\"] == 28278]\n",
    "df_28213 = df.loc[df[\"Zip Code\"] == 28213]"
   ]
  },
  {
   "cell_type": "code",
   "execution_count": 6,
   "id": "motivated-booth",
   "metadata": {},
   "outputs": [
    {
     "data": {
      "text/html": [
       "<div>\n",
       "<style scoped>\n",
       "    .dataframe tbody tr th:only-of-type {\n",
       "        vertical-align: middle;\n",
       "    }\n",
       "\n",
       "    .dataframe tbody tr th {\n",
       "        vertical-align: top;\n",
       "    }\n",
       "\n",
       "    .dataframe thead th {\n",
       "        text-align: right;\n",
       "    }\n",
       "</style>\n",
       "<table border=\"1\" class=\"dataframe\">\n",
       "  <thead>\n",
       "    <tr style=\"text-align: right;\">\n",
       "      <th></th>\n",
       "      <th>Year/Month</th>\n",
       "      <th>Zip Code</th>\n",
       "      <th>Average Listing Price</th>\n",
       "    </tr>\n",
       "  </thead>\n",
       "  <tbody>\n",
       "    <tr>\n",
       "      <th>0</th>\n",
       "      <td>202104</td>\n",
       "      <td>28213</td>\n",
       "      <td>285710.02</td>\n",
       "    </tr>\n",
       "    <tr>\n",
       "      <th>36</th>\n",
       "      <td>202103</td>\n",
       "      <td>28213</td>\n",
       "      <td>256458.00</td>\n",
       "    </tr>\n",
       "    <tr>\n",
       "      <th>47</th>\n",
       "      <td>202102</td>\n",
       "      <td>28213</td>\n",
       "      <td>186529.05</td>\n",
       "    </tr>\n",
       "    <tr>\n",
       "      <th>112</th>\n",
       "      <td>202011</td>\n",
       "      <td>28213</td>\n",
       "      <td>234978.56</td>\n",
       "    </tr>\n",
       "    <tr>\n",
       "      <th>149</th>\n",
       "      <td>202010</td>\n",
       "      <td>28213</td>\n",
       "      <td>239281.32</td>\n",
       "    </tr>\n",
       "    <tr>\n",
       "      <th>164</th>\n",
       "      <td>202009</td>\n",
       "      <td>28213</td>\n",
       "      <td>235407.76</td>\n",
       "    </tr>\n",
       "    <tr>\n",
       "      <th>199</th>\n",
       "      <td>202008</td>\n",
       "      <td>28213</td>\n",
       "      <td>228937.00</td>\n",
       "    </tr>\n",
       "    <tr>\n",
       "      <th>204</th>\n",
       "      <td>202007</td>\n",
       "      <td>28213</td>\n",
       "      <td>238605.90</td>\n",
       "    </tr>\n",
       "    <tr>\n",
       "      <th>227</th>\n",
       "      <td>202006</td>\n",
       "      <td>28213</td>\n",
       "      <td>239827.49</td>\n",
       "    </tr>\n",
       "    <tr>\n",
       "      <th>267</th>\n",
       "      <td>202005</td>\n",
       "      <td>28213</td>\n",
       "      <td>233547.07</td>\n",
       "    </tr>\n",
       "    <tr>\n",
       "      <th>269</th>\n",
       "      <td>202004</td>\n",
       "      <td>28213</td>\n",
       "      <td>218475.23</td>\n",
       "    </tr>\n",
       "    <tr>\n",
       "      <th>304</th>\n",
       "      <td>202003</td>\n",
       "      <td>28213</td>\n",
       "      <td>223901.98</td>\n",
       "    </tr>\n",
       "    <tr>\n",
       "      <th>321</th>\n",
       "      <td>202002</td>\n",
       "      <td>28213</td>\n",
       "      <td>231176.03</td>\n",
       "    </tr>\n",
       "    <tr>\n",
       "      <th>361</th>\n",
       "      <td>202001</td>\n",
       "      <td>28213</td>\n",
       "      <td>249811.73</td>\n",
       "    </tr>\n",
       "    <tr>\n",
       "      <th>364</th>\n",
       "      <td>201912</td>\n",
       "      <td>28213</td>\n",
       "      <td>247773.17</td>\n",
       "    </tr>\n",
       "    <tr>\n",
       "      <th>399</th>\n",
       "      <td>201911</td>\n",
       "      <td>28213</td>\n",
       "      <td>234103.90</td>\n",
       "    </tr>\n",
       "    <tr>\n",
       "      <th>432</th>\n",
       "      <td>201910</td>\n",
       "      <td>28213</td>\n",
       "      <td>232682.28</td>\n",
       "    </tr>\n",
       "    <tr>\n",
       "      <th>444</th>\n",
       "      <td>201909</td>\n",
       "      <td>28213</td>\n",
       "      <td>247725.18</td>\n",
       "    </tr>\n",
       "    <tr>\n",
       "      <th>461</th>\n",
       "      <td>201908</td>\n",
       "      <td>28213</td>\n",
       "      <td>259126.02</td>\n",
       "    </tr>\n",
       "    <tr>\n",
       "      <th>491</th>\n",
       "      <td>201907</td>\n",
       "      <td>28213</td>\n",
       "      <td>260708.35</td>\n",
       "    </tr>\n",
       "    <tr>\n",
       "      <th>508</th>\n",
       "      <td>201906</td>\n",
       "      <td>28213</td>\n",
       "      <td>252666.92</td>\n",
       "    </tr>\n",
       "    <tr>\n",
       "      <th>539</th>\n",
       "      <td>201905</td>\n",
       "      <td>28213</td>\n",
       "      <td>241447.13</td>\n",
       "    </tr>\n",
       "    <tr>\n",
       "      <th>566</th>\n",
       "      <td>201904</td>\n",
       "      <td>28213</td>\n",
       "      <td>236284.22</td>\n",
       "    </tr>\n",
       "    <tr>\n",
       "      <th>575</th>\n",
       "      <td>201903</td>\n",
       "      <td>28213</td>\n",
       "      <td>230787.79</td>\n",
       "    </tr>\n",
       "    <tr>\n",
       "      <th>606</th>\n",
       "      <td>201902</td>\n",
       "      <td>28213</td>\n",
       "      <td>230650.84</td>\n",
       "    </tr>\n",
       "    <tr>\n",
       "      <th>642</th>\n",
       "      <td>201901</td>\n",
       "      <td>28213</td>\n",
       "      <td>223562.99</td>\n",
       "    </tr>\n",
       "    <tr>\n",
       "      <th>659</th>\n",
       "      <td>201812</td>\n",
       "      <td>28213</td>\n",
       "      <td>245025.92</td>\n",
       "    </tr>\n",
       "    <tr>\n",
       "      <th>671</th>\n",
       "      <td>201811</td>\n",
       "      <td>28213</td>\n",
       "      <td>231768.92</td>\n",
       "    </tr>\n",
       "    <tr>\n",
       "      <th>696</th>\n",
       "      <td>201810</td>\n",
       "      <td>28213</td>\n",
       "      <td>227199.04</td>\n",
       "    </tr>\n",
       "    <tr>\n",
       "      <th>731</th>\n",
       "      <td>201809</td>\n",
       "      <td>28213</td>\n",
       "      <td>207957.84</td>\n",
       "    </tr>\n",
       "    <tr>\n",
       "      <th>747</th>\n",
       "      <td>201808</td>\n",
       "      <td>28213</td>\n",
       "      <td>204931.27</td>\n",
       "    </tr>\n",
       "    <tr>\n",
       "      <th>767</th>\n",
       "      <td>201807</td>\n",
       "      <td>28213</td>\n",
       "      <td>214098.06</td>\n",
       "    </tr>\n",
       "    <tr>\n",
       "      <th>794</th>\n",
       "      <td>201806</td>\n",
       "      <td>28213</td>\n",
       "      <td>217108.46</td>\n",
       "    </tr>\n",
       "    <tr>\n",
       "      <th>817</th>\n",
       "      <td>201805</td>\n",
       "      <td>28213</td>\n",
       "      <td>223252.72</td>\n",
       "    </tr>\n",
       "    <tr>\n",
       "      <th>846</th>\n",
       "      <td>201804</td>\n",
       "      <td>28213</td>\n",
       "      <td>231974.23</td>\n",
       "    </tr>\n",
       "    <tr>\n",
       "      <th>871</th>\n",
       "      <td>201803</td>\n",
       "      <td>28213</td>\n",
       "      <td>221223.26</td>\n",
       "    </tr>\n",
       "    <tr>\n",
       "      <th>886</th>\n",
       "      <td>201802</td>\n",
       "      <td>28213</td>\n",
       "      <td>216878.81</td>\n",
       "    </tr>\n",
       "    <tr>\n",
       "      <th>923</th>\n",
       "      <td>201801</td>\n",
       "      <td>28213</td>\n",
       "      <td>215085.76</td>\n",
       "    </tr>\n",
       "    <tr>\n",
       "      <th>945</th>\n",
       "      <td>201712</td>\n",
       "      <td>28213</td>\n",
       "      <td>190526.05</td>\n",
       "    </tr>\n",
       "    <tr>\n",
       "      <th>962</th>\n",
       "      <td>201711</td>\n",
       "      <td>28213</td>\n",
       "      <td>195668.03</td>\n",
       "    </tr>\n",
       "    <tr>\n",
       "      <th>978</th>\n",
       "      <td>201710</td>\n",
       "      <td>28213</td>\n",
       "      <td>200685.76</td>\n",
       "    </tr>\n",
       "    <tr>\n",
       "      <th>1019</th>\n",
       "      <td>201709</td>\n",
       "      <td>28213</td>\n",
       "      <td>204415.64</td>\n",
       "    </tr>\n",
       "    <tr>\n",
       "      <th>1040</th>\n",
       "      <td>201708</td>\n",
       "      <td>28213</td>\n",
       "      <td>200698.24</td>\n",
       "    </tr>\n",
       "    <tr>\n",
       "      <th>1057</th>\n",
       "      <td>201707</td>\n",
       "      <td>28213</td>\n",
       "      <td>225071.65</td>\n",
       "    </tr>\n",
       "    <tr>\n",
       "      <th>1072</th>\n",
       "      <td>201706</td>\n",
       "      <td>28213</td>\n",
       "      <td>214106.98</td>\n",
       "    </tr>\n",
       "    <tr>\n",
       "      <th>1101</th>\n",
       "      <td>201705</td>\n",
       "      <td>28213</td>\n",
       "      <td>186041.09</td>\n",
       "    </tr>\n",
       "    <tr>\n",
       "      <th>1121</th>\n",
       "      <td>201704</td>\n",
       "      <td>28213</td>\n",
       "      <td>179864.27</td>\n",
       "    </tr>\n",
       "    <tr>\n",
       "      <th>1153</th>\n",
       "      <td>201703</td>\n",
       "      <td>28213</td>\n",
       "      <td>190153.12</td>\n",
       "    </tr>\n",
       "    <tr>\n",
       "      <th>1170</th>\n",
       "      <td>201702</td>\n",
       "      <td>28213</td>\n",
       "      <td>199374.12</td>\n",
       "    </tr>\n",
       "    <tr>\n",
       "      <th>1189</th>\n",
       "      <td>201701</td>\n",
       "      <td>28213</td>\n",
       "      <td>201921.57</td>\n",
       "    </tr>\n",
       "    <tr>\n",
       "      <th>1209</th>\n",
       "      <td>201612</td>\n",
       "      <td>28213</td>\n",
       "      <td>201320.66</td>\n",
       "    </tr>\n",
       "    <tr>\n",
       "      <th>1248</th>\n",
       "      <td>201611</td>\n",
       "      <td>28213</td>\n",
       "      <td>199547.83</td>\n",
       "    </tr>\n",
       "    <tr>\n",
       "      <th>1264</th>\n",
       "      <td>201610</td>\n",
       "      <td>28213</td>\n",
       "      <td>201728.25</td>\n",
       "    </tr>\n",
       "    <tr>\n",
       "      <th>1278</th>\n",
       "      <td>201609</td>\n",
       "      <td>28213</td>\n",
       "      <td>209767.76</td>\n",
       "    </tr>\n",
       "    <tr>\n",
       "      <th>1312</th>\n",
       "      <td>201608</td>\n",
       "      <td>28213</td>\n",
       "      <td>192833.67</td>\n",
       "    </tr>\n",
       "    <tr>\n",
       "      <th>1338</th>\n",
       "      <td>201607</td>\n",
       "      <td>28213</td>\n",
       "      <td>187304.80</td>\n",
       "    </tr>\n",
       "  </tbody>\n",
       "</table>\n",
       "</div>"
      ],
      "text/plain": [
       "      Year/Month  Zip Code  Average Listing Price\n",
       "0         202104     28213              285710.02\n",
       "36        202103     28213              256458.00\n",
       "47        202102     28213              186529.05\n",
       "112       202011     28213              234978.56\n",
       "149       202010     28213              239281.32\n",
       "164       202009     28213              235407.76\n",
       "199       202008     28213              228937.00\n",
       "204       202007     28213              238605.90\n",
       "227       202006     28213              239827.49\n",
       "267       202005     28213              233547.07\n",
       "269       202004     28213              218475.23\n",
       "304       202003     28213              223901.98\n",
       "321       202002     28213              231176.03\n",
       "361       202001     28213              249811.73\n",
       "364       201912     28213              247773.17\n",
       "399       201911     28213              234103.90\n",
       "432       201910     28213              232682.28\n",
       "444       201909     28213              247725.18\n",
       "461       201908     28213              259126.02\n",
       "491       201907     28213              260708.35\n",
       "508       201906     28213              252666.92\n",
       "539       201905     28213              241447.13\n",
       "566       201904     28213              236284.22\n",
       "575       201903     28213              230787.79\n",
       "606       201902     28213              230650.84\n",
       "642       201901     28213              223562.99\n",
       "659       201812     28213              245025.92\n",
       "671       201811     28213              231768.92\n",
       "696       201810     28213              227199.04\n",
       "731       201809     28213              207957.84\n",
       "747       201808     28213              204931.27\n",
       "767       201807     28213              214098.06\n",
       "794       201806     28213              217108.46\n",
       "817       201805     28213              223252.72\n",
       "846       201804     28213              231974.23\n",
       "871       201803     28213              221223.26\n",
       "886       201802     28213              216878.81\n",
       "923       201801     28213              215085.76\n",
       "945       201712     28213              190526.05\n",
       "962       201711     28213              195668.03\n",
       "978       201710     28213              200685.76\n",
       "1019      201709     28213              204415.64\n",
       "1040      201708     28213              200698.24\n",
       "1057      201707     28213              225071.65\n",
       "1072      201706     28213              214106.98\n",
       "1101      201705     28213              186041.09\n",
       "1121      201704     28213              179864.27\n",
       "1153      201703     28213              190153.12\n",
       "1170      201702     28213              199374.12\n",
       "1189      201701     28213              201921.57\n",
       "1209      201612     28213              201320.66\n",
       "1248      201611     28213              199547.83\n",
       "1264      201610     28213              201728.25\n",
       "1278      201609     28213              209767.76\n",
       "1312      201608     28213              192833.67\n",
       "1338      201607     28213              187304.80"
      ]
     },
     "execution_count": 6,
     "metadata": {},
     "output_type": "execute_result"
    }
   ],
   "source": [
    "df_28213"
   ]
  },
  {
   "cell_type": "code",
   "execution_count": 7,
   "id": "honest-dispute",
   "metadata": {},
   "outputs": [
    {
     "data": {
      "text/plain": [
       "Year/Month                 int64\n",
       "Zip Code                   int64\n",
       "Average Listing Price    float64\n",
       "dtype: object"
      ]
     },
     "execution_count": 7,
     "metadata": {},
     "output_type": "execute_result"
    }
   ],
   "source": [
    "df_28278.dtypes"
   ]
  },
  {
   "cell_type": "code",
   "execution_count": 8,
   "id": "turkish-payroll",
   "metadata": {},
   "outputs": [
    {
     "name": "stdout",
     "output_type": "stream",
     "text": [
      "Shape:  (56, 1) (56, 1)\n"
     ]
    },
    {
     "data": {
      "text/plain": [
       "array([[202104],\n",
       "       [202103],\n",
       "       [202102],\n",
       "       [202011],\n",
       "       [202010],\n",
       "       [202009],\n",
       "       [202008],\n",
       "       [202007],\n",
       "       [202006],\n",
       "       [202005],\n",
       "       [202004],\n",
       "       [202003],\n",
       "       [202002],\n",
       "       [202001],\n",
       "       [201912],\n",
       "       [201911],\n",
       "       [201910],\n",
       "       [201909],\n",
       "       [201908],\n",
       "       [201907],\n",
       "       [201906],\n",
       "       [201905],\n",
       "       [201904],\n",
       "       [201903],\n",
       "       [201902],\n",
       "       [201901],\n",
       "       [201812],\n",
       "       [201811],\n",
       "       [201810],\n",
       "       [201809],\n",
       "       [201808],\n",
       "       [201807],\n",
       "       [201806],\n",
       "       [201805],\n",
       "       [201804],\n",
       "       [201803],\n",
       "       [201802],\n",
       "       [201801],\n",
       "       [201712],\n",
       "       [201711],\n",
       "       [201710],\n",
       "       [201709],\n",
       "       [201708],\n",
       "       [201707],\n",
       "       [201706],\n",
       "       [201705],\n",
       "       [201704],\n",
       "       [201703],\n",
       "       [201702],\n",
       "       [201701],\n",
       "       [201612],\n",
       "       [201611],\n",
       "       [201610],\n",
       "       [201609],\n",
       "       [201608],\n",
       "       [201607]])"
      ]
     },
     "execution_count": 8,
     "metadata": {},
     "output_type": "execute_result"
    }
   ],
   "source": [
    "# Assign the data to X and y\n",
    "X = df_28213[\"Year/Month\"].values.reshape(-1, 1)\n",
    "y = df_28213[\"Average Listing Price\"].values.reshape(-1, 1)\n",
    "\n",
    "print(\"Shape: \", X.shape, y.shape)\n",
    "X"
   ]
  },
  {
   "cell_type": "code",
   "execution_count": 9,
   "id": "split-springfield",
   "metadata": {},
   "outputs": [
    {
     "data": {
      "text/plain": [
       "<matplotlib.collections.PathCollection at 0x7fc3b856bef0>"
      ]
     },
     "execution_count": 9,
     "metadata": {},
     "output_type": "execute_result"
    },
    {
     "data": {
      "image/png": "[encoded data removed]",
      "text/plain": [
       "<Figure size 432x288 with 1 Axes>"
      ]
     },
     "metadata": {
      "needs_background": "light"
     },
     "output_type": "display_data"
    }
   ],
   "source": [
    "# Plot the data\n",
    "\n",
    "plt.scatter(X, y)"
   ]
  },
  {
   "cell_type": "code",
   "execution_count": 10,
   "id": "gorgeous-investment",
   "metadata": {},
   "outputs": [
    {
     "data": {
      "text/plain": [
       "LinearRegression()"
      ]
     },
     "execution_count": 10,
     "metadata": {},
     "output_type": "execute_result"
    }
   ],
   "source": [
    "# Create the model and fit the model to the data\n",
    "\n",
    "model = LinearRegression()\n",
    "model"
   ]
  },
  {
   "cell_type": "code",
   "execution_count": 11,
   "id": "rising-fossil",
   "metadata": {},
   "outputs": [
    {
     "data": {
      "text/plain": [
       "LinearRegression()"
      ]
     },
     "execution_count": 11,
     "metadata": {},
     "output_type": "execute_result"
    }
   ],
   "source": [
    "# Fit the model to the data. \n",
    "\n",
    "model.fit(X,y)"
   ]
  },
  {
   "cell_type": "code",
   "execution_count": 12,
   "id": "color-maple",
   "metadata": {},
   "outputs": [
    {
     "name": "stdout",
     "output_type": "stream",
     "text": [
      "Min X Value: [[201607]]\n",
      "Max X Value: [[202104]]\n"
     ]
    }
   ],
   "source": [
    "x_min = np.array([[X.min()]])\n",
    "x_max = np.array([[X.max()]])\n",
    "print(f\"Min X Value: {x_min}\")\n",
    "print(f\"Max X Value: {x_max}\")"
   ]
  },
  {
   "cell_type": "code",
   "execution_count": 13,
   "id": "proved-syndrome",
   "metadata": {},
   "outputs": [
    {
     "data": {
      "text/plain": [
       "array([[202104],\n",
       "       [202103],\n",
       "       [202102],\n",
       "       [202011],\n",
       "       [202010],\n",
       "       [202009],\n",
       "       [202008],\n",
       "       [202007],\n",
       "       [202006],\n",
       "       [202005],\n",
       "       [202004],\n",
       "       [202003],\n",
       "       [202002],\n",
       "       [202001],\n",
       "       [201912],\n",
       "       [201911],\n",
       "       [201910],\n",
       "       [201909],\n",
       "       [201908],\n",
       "       [201907],\n",
       "       [201906],\n",
       "       [201905],\n",
       "       [201904],\n",
       "       [201903],\n",
       "       [201902],\n",
       "       [201901],\n",
       "       [201812],\n",
       "       [201811],\n",
       "       [201810],\n",
       "       [201809],\n",
       "       [201808],\n",
       "       [201807],\n",
       "       [201806],\n",
       "       [201805],\n",
       "       [201804],\n",
       "       [201803],\n",
       "       [201802],\n",
       "       [201801],\n",
       "       [201712],\n",
       "       [201711],\n",
       "       [201710],\n",
       "       [201709],\n",
       "       [201708],\n",
       "       [201707],\n",
       "       [201706],\n",
       "       [201705],\n",
       "       [201704],\n",
       "       [201703],\n",
       "       [201702],\n",
       "       [201701],\n",
       "       [201612],\n",
       "       [201611],\n",
       "       [201610],\n",
       "       [201609],\n",
       "       [201608],\n",
       "       [201607]])"
      ]
     },
     "execution_count": 13,
     "metadata": {},
     "output_type": "execute_result"
    }
   ],
   "source": [
    "X"
   ]
  },
  {
   "cell_type": "code",
   "execution_count": 14,
   "id": "undefined-nation",
   "metadata": {},
   "outputs": [
    {
     "name": "stdout",
     "output_type": "stream",
     "text": [
      "[[196095.85954089]]\n",
      "[[251457.401007]]\n"
     ]
    }
   ],
   "source": [
    "# Calculate the y_min and y_max using model.predict and x_min and x_max\n",
    "y_min = model.predict(x_min)\n",
    "y_max = model.predict(x_max)\n",
    "\n",
    "print(y_min)\n",
    "print(y_max)"
   ]
  },
  {
   "cell_type": "code",
   "execution_count": 15,
   "id": "regional-bridges",
   "metadata": {},
   "outputs": [
    {
     "data": {
      "text/plain": [
       "[<matplotlib.lines.Line2D at 0x7fc3bafc0278>]"
      ]
     },
     "execution_count": 15,
     "metadata": {},
     "output_type": "execute_result"
    },
    {
     "data": {
      "image/png": "[encoded data removed]",
      "text/plain": [
       "<Figure size 432x288 with 1 Axes>"
      ]
     },
     "metadata": {
      "needs_background": "light"
     },
     "output_type": "display_data"
    }
   ],
   "source": [
    "# Plot X and y using plt.scatter\n",
    "# Plot the model fit line using [x_min[0], x_max[0]], [y_min[0], y_max[0]]\n",
    "plt.scatter(X,y)\n",
    "plt.plot([x_min[0], x_max[0]], [y_min[0], y_max[0]], c='red')"
   ]
  },
  {
   "cell_type": "code",
   "execution_count": 16,
   "id": "leading-nickel",
   "metadata": {},
   "outputs": [
    {
     "name": "stdout",
     "output_type": "stream",
     "text": [
      "Mean Squared Error (MSE): 251491073.39621797\n",
      "R-squared (R2 ): 0.49450488327634934\n"
     ]
    }
   ],
   "source": [
    "from sklearn.metrics import mean_squared_error, r2_score\n",
    "\n",
    "# Use our model to predict a value\n",
    "predicted = model.predict(X)\n",
    "\n",
    "# Score the prediction with mse and r2\n",
    "mse = mean_squared_error(y, predicted)\n",
    "r2 = r2_score(y, predicted)\n",
    "\n",
    "print(f\"Mean Squared Error (MSE): {mse}\")\n",
    "print(f\"R-squared (R2 ): {r2}\")"
   ]
  },
  {
   "cell_type": "code",
   "execution_count": 17,
   "id": "smart-matter",
   "metadata": {},
   "outputs": [],
   "source": [
    "# Use train_test_split to create training and testing data\n",
    "\n",
    "X_train, X_test, y_train, y_test = train_test_split(X, y, random_state=42)"
   ]
  },
  {
   "cell_type": "code",
   "execution_count": 18,
   "id": "introductory-deadline",
   "metadata": {},
   "outputs": [
    {
     "name": "stdout",
     "output_type": "stream",
     "text": [
      "Training Score: 0.4461574296826808\n",
      "Testing Score: 0.47247708754473894\n"
     ]
    }
   ],
   "source": [
    "# Fit the model to the data. \n",
    "\n",
    "# Fit the model to the training data and calculate the scores for the training and testing data\n",
    "\n",
    "model.fit(X_train, y_train)\n",
    "training_score = model.score(X_train, y_train)\n",
    "testing_score = model.score(X_test, y_test)\n",
    "\n",
    "print(f\"Training Score: {training_score}\")\n",
    "print(f\"Testing Score: {testing_score}\")"
   ]
  },
  {
   "cell_type": "code",
   "execution_count": 19,
   "id": "interpreted-lender",
   "metadata": {},
   "outputs": [
    {
     "name": "stdout",
     "output_type": "stream",
     "text": [
      "Min X Value: [[201607]]\n",
      "Max X Value: [[202104]]\n"
     ]
    }
   ],
   "source": [
    "# Note: we have to transform our min and max values \n",
    "# so they are in the format: array([[ 1.17]])\n",
    "# This is the required format for `model.predict()`\n",
    "\n",
    "x_min = np.array([[X.min()]])\n",
    "x_max = np.array([[X.max()]])\n",
    "print(f\"Min X Value: {x_min}\")\n",
    "print(f\"Max X Value: {x_max}\")"
   ]
  },
  {
   "cell_type": "code",
   "execution_count": 20,
   "id": "sapphire-container",
   "metadata": {},
   "outputs": [
    {
     "name": "stdout",
     "output_type": "stream",
     "text": [
      "[[196043.64523303]]\n",
      "[[246659.20732527]]\n"
     ]
    }
   ],
   "source": [
    "# Calculate the y_min and y_max using model.predict and x_min and x_max\n",
    "y_min = model.predict(x_min)\n",
    "y_max = model.predict(x_max)\n",
    "\n",
    "print(y_min)\n",
    "print(y_max)"
   ]
  },
  {
   "cell_type": "code",
   "execution_count": 21,
   "id": "described-length",
   "metadata": {},
   "outputs": [
    {
     "data": {
      "text/plain": [
       "[<matplotlib.lines.Line2D at 0x7fc3bb013208>]"
      ]
     },
     "execution_count": 21,
     "metadata": {},
     "output_type": "execute_result"
    },
    {
     "data": {
      "image/png": "[encoded data removed]",
      "text/plain": [
       "<Figure size 432x288 with 1 Axes>"
      ]
     },
     "metadata": {
      "needs_background": "light"
     },
     "output_type": "display_data"
    }
   ],
   "source": [
    "# Plot X and y using plt.scatter\n",
    "# Plot the model fit line using [x_min[0], x_max[0]], [y_min[0], y_max[0]]\n",
    "plt.scatter(X,y)\n",
    "plt.plot([x_min[0], x_max[0]], [y_min[0], y_max[0]], c='red')"
   ]
  },
  {
   "cell_type": "code",
   "execution_count": 22,
   "id": "cellular-singer",
   "metadata": {},
   "outputs": [
    {
     "name": "stdout",
     "output_type": "stream",
     "text": [
      "Mean Squared Error (MSE): 258504936.68696812\n",
      "R-squared (R2 ): 0.4804070721892111\n"
     ]
    }
   ],
   "source": [
    "from sklearn.metrics import mean_squared_error, r2_score\n",
    "\n",
    "# Use our model to predict a value\n",
    "predicted = model.predict(X)\n",
    "\n",
    "# Score the prediction with mse and r2\n",
    "mse = mean_squared_error(y, predicted)\n",
    "r2 = r2_score(y, predicted)\n",
    "\n",
    "print(f\"Mean Squared Error (MSE): {mse}\")\n",
    "print(f\"R-squared (R2 ): {r2}\")"
   ]
  },
  {
   "cell_type": "code",
   "execution_count": 23,
   "id": "competent-semiconductor",
   "metadata": {},
   "outputs": [
    {
     "data": {
      "text/plain": [
       "0.4804070721892111"
      ]
     },
     "execution_count": 23,
     "metadata": {},
     "output_type": "execute_result"
    }
   ],
   "source": [
    "# Overall Score for the model\n",
    "model.score(X, y)"
   ]
  },
  {
   "cell_type": "code",
   "execution_count": 24,
   "id": "fixed-python",
   "metadata": {},
   "outputs": [],
   "source": [
    "X_train, X_test, y_train, y_test = train_test_split(X, y, random_state=42)"
   ]
  },
  {
   "cell_type": "code",
   "execution_count": 25,
   "id": "removed-ballet",
   "metadata": {},
   "outputs": [
    {
     "data": {
      "text/plain": [
       "LinearRegression()"
      ]
     },
     "execution_count": 25,
     "metadata": {},
     "output_type": "execute_result"
    }
   ],
   "source": [
    "# Train the model using the training data\n",
    "model.fit(X_train, y_train)"
   ]
  },
  {
   "cell_type": "code",
   "execution_count": 26,
   "id": "physical-salvation",
   "metadata": {},
   "outputs": [
    {
     "data": {
      "text/plain": [
       "0.47247708754473894"
      ]
     },
     "execution_count": 26,
     "metadata": {},
     "output_type": "execute_result"
    }
   ],
   "source": [
    "# Score the model using the testing data\n",
    "model.score(X_test, y_test)"
   ]
  },
  {
   "cell_type": "code",
   "execution_count": 27,
   "id": "complimentary-consensus",
   "metadata": {},
   "outputs": [],
   "source": [
    "Xnew = [[202201], [202301], [202401], [202501], [203001], [204001], [205001], [206001], [207001]]\n",
    "ynew = model.predict(Xnew)"
   ]
  },
  {
   "cell_type": "code",
   "execution_count": 30,
   "id": "urban-wrong",
   "metadata": {},
   "outputs": [
    {
     "data": {
      "image/png": "[encoded data removed]",
      "text/plain": [
       "<Figure size 432x288 with 1 Axes>"
      ]
     },
     "metadata": {
      "needs_background": "light"
     },
     "output_type": "display_data"
    }
   ],
   "source": [
    "plt.scatter(Xnew,ynew)\n",
    "plt.xlabel(\"Year\")\n",
    "plt.ylabel(\"Projected Median Home Price ($)\")\n",
    "plt.title(\"Projected Home Prices in 28213\")\n",
    "plt.savefig(\"Images/Projected_Prices_28213.png\")"
   ]
  },
  {
   "cell_type": "code",
   "execution_count": null,
   "id": "vital-panama",
   "metadata": {},
   "outputs": [],
   "source": []
  }
 ],
 "metadata": {
  "kernelspec": {
   "display_name": "PythonData",
   "language": "python",
   "name": "pythondata"
  },
  "language_info": {
   "codemirror_mode": {
    "name": "ipython",
    "version": 3
   },
   "file_extension": ".py",
   "mimetype": "text/x-python",
   "name": "python",
   "nbconvert_exporter": "python",
   "pygments_lexer": "ipython3",
   "version": "3.6.10"
  }
 },
 "nbformat": 4,
 "nbformat_minor": 5
}
